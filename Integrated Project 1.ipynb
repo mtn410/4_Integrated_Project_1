{
 "cells": [
  {
   "cell_type": "markdown",
   "metadata": {},
   "source": [
    "# Integrated Project\n",
    "\n",
    "# Research on video games sales patterns\n",
    "\n",
    "I work for the online store Ice, which sells video games all over the world. User and expert reviews, genres, platforms (e.g. Xbox or PlayStation), and historical data on game sales are available from open sources. \n",
    "\n",
    "My goal is to identify patterns that determine whether a game succeeds or not. This will allow me to spot potential big winners and plan advertising campaigns.\n",
    "\n",
    "I have data going back to 2016. I'm planning a campaign for 2017. "
   ]
  },
  {
   "cell_type": "markdown",
   "metadata": {},
   "source": [
    "## Open the data file and study the general information. "
   ]
  },
  {
   "cell_type": "markdown",
   "metadata": {},
   "source": [
    "### Read the data file and import the necessary libraries:"
   ]
  },
  {
   "cell_type": "code",
   "execution_count": 1,
   "metadata": {},
   "outputs": [
    {
     "name": "stdout",
     "output_type": "stream",
     "text": [
      "Files read successfully\n"
     ]
    }
   ],
   "source": [
    "import pandas as pd\n",
    "import numpy as np\n",
    "import matplotlib.pyplot as plt\n",
    "import seaborn as sns\n",
    "from functools import reduce\n",
    "from scipy import stats as st\n",
    "%matplotlib inline\n",
    "\n",
    "pd.set_option('display.max_rows', None)\n",
    "\n",
    "try:\n",
    "    df_games = pd.read_csv('games.csv')\n",
    "    df1_games = pd.read_csv('games.csv')\n",
    "except:\n",
    "    df_games = pd.read_csv('/datasets/games.csv')\n",
    "\n",
    "print('Files read successfully')"
   ]
  },
  {
   "cell_type": "markdown",
   "metadata": {},
   "source": [
    "### 1. Study the general information:"
   ]
  },
  {
   "cell_type": "code",
   "execution_count": 2,
   "metadata": {},
   "outputs": [
    {
     "data": {
      "text/html": [
       "<div>\n",
       "<style scoped>\n",
       "    .dataframe tbody tr th:only-of-type {\n",
       "        vertical-align: middle;\n",
       "    }\n",
       "\n",
       "    .dataframe tbody tr th {\n",
       "        vertical-align: top;\n",
       "    }\n",
       "\n",
       "    .dataframe thead th {\n",
       "        text-align: right;\n",
       "    }\n",
       "</style>\n",
       "<table border=\"1\" class=\"dataframe\">\n",
       "  <thead>\n",
       "    <tr style=\"text-align: right;\">\n",
       "      <th></th>\n",
       "      <th>Name</th>\n",
       "      <th>Platform</th>\n",
       "      <th>Year_of_Release</th>\n",
       "      <th>Genre</th>\n",
       "      <th>NA_sales</th>\n",
       "      <th>EU_sales</th>\n",
       "      <th>JP_sales</th>\n",
       "      <th>Other_sales</th>\n",
       "      <th>Critic_Score</th>\n",
       "      <th>User_Score</th>\n",
       "      <th>Rating</th>\n",
       "    </tr>\n",
       "  </thead>\n",
       "  <tbody>\n",
       "    <tr>\n",
       "      <td>0</td>\n",
       "      <td>Wii Sports</td>\n",
       "      <td>Wii</td>\n",
       "      <td>2006.0</td>\n",
       "      <td>Sports</td>\n",
       "      <td>41.36</td>\n",
       "      <td>28.96</td>\n",
       "      <td>3.77</td>\n",
       "      <td>8.45</td>\n",
       "      <td>76.0</td>\n",
       "      <td>8</td>\n",
       "      <td>E</td>\n",
       "    </tr>\n",
       "    <tr>\n",
       "      <td>1</td>\n",
       "      <td>Super Mario Bros.</td>\n",
       "      <td>NES</td>\n",
       "      <td>1985.0</td>\n",
       "      <td>Platform</td>\n",
       "      <td>29.08</td>\n",
       "      <td>3.58</td>\n",
       "      <td>6.81</td>\n",
       "      <td>0.77</td>\n",
       "      <td>NaN</td>\n",
       "      <td>NaN</td>\n",
       "      <td>NaN</td>\n",
       "    </tr>\n",
       "    <tr>\n",
       "      <td>2</td>\n",
       "      <td>Mario Kart Wii</td>\n",
       "      <td>Wii</td>\n",
       "      <td>2008.0</td>\n",
       "      <td>Racing</td>\n",
       "      <td>15.68</td>\n",
       "      <td>12.76</td>\n",
       "      <td>3.79</td>\n",
       "      <td>3.29</td>\n",
       "      <td>82.0</td>\n",
       "      <td>8.3</td>\n",
       "      <td>E</td>\n",
       "    </tr>\n",
       "    <tr>\n",
       "      <td>3</td>\n",
       "      <td>Wii Sports Resort</td>\n",
       "      <td>Wii</td>\n",
       "      <td>2009.0</td>\n",
       "      <td>Sports</td>\n",
       "      <td>15.61</td>\n",
       "      <td>10.93</td>\n",
       "      <td>3.28</td>\n",
       "      <td>2.95</td>\n",
       "      <td>80.0</td>\n",
       "      <td>8</td>\n",
       "      <td>E</td>\n",
       "    </tr>\n",
       "    <tr>\n",
       "      <td>4</td>\n",
       "      <td>Pokemon Red/Pokemon Blue</td>\n",
       "      <td>GB</td>\n",
       "      <td>1996.0</td>\n",
       "      <td>Role-Playing</td>\n",
       "      <td>11.27</td>\n",
       "      <td>8.89</td>\n",
       "      <td>10.22</td>\n",
       "      <td>1.00</td>\n",
       "      <td>NaN</td>\n",
       "      <td>NaN</td>\n",
       "      <td>NaN</td>\n",
       "    </tr>\n",
       "    <tr>\n",
       "      <td>5</td>\n",
       "      <td>Tetris</td>\n",
       "      <td>GB</td>\n",
       "      <td>1989.0</td>\n",
       "      <td>Puzzle</td>\n",
       "      <td>23.20</td>\n",
       "      <td>2.26</td>\n",
       "      <td>4.22</td>\n",
       "      <td>0.58</td>\n",
       "      <td>NaN</td>\n",
       "      <td>NaN</td>\n",
       "      <td>NaN</td>\n",
       "    </tr>\n",
       "    <tr>\n",
       "      <td>6</td>\n",
       "      <td>New Super Mario Bros.</td>\n",
       "      <td>DS</td>\n",
       "      <td>2006.0</td>\n",
       "      <td>Platform</td>\n",
       "      <td>11.28</td>\n",
       "      <td>9.14</td>\n",
       "      <td>6.50</td>\n",
       "      <td>2.88</td>\n",
       "      <td>89.0</td>\n",
       "      <td>8.5</td>\n",
       "      <td>E</td>\n",
       "    </tr>\n",
       "    <tr>\n",
       "      <td>7</td>\n",
       "      <td>Wii Play</td>\n",
       "      <td>Wii</td>\n",
       "      <td>2006.0</td>\n",
       "      <td>Misc</td>\n",
       "      <td>13.96</td>\n",
       "      <td>9.18</td>\n",
       "      <td>2.93</td>\n",
       "      <td>2.84</td>\n",
       "      <td>58.0</td>\n",
       "      <td>6.6</td>\n",
       "      <td>E</td>\n",
       "    </tr>\n",
       "    <tr>\n",
       "      <td>8</td>\n",
       "      <td>New Super Mario Bros. Wii</td>\n",
       "      <td>Wii</td>\n",
       "      <td>2009.0</td>\n",
       "      <td>Platform</td>\n",
       "      <td>14.44</td>\n",
       "      <td>6.94</td>\n",
       "      <td>4.70</td>\n",
       "      <td>2.24</td>\n",
       "      <td>87.0</td>\n",
       "      <td>8.4</td>\n",
       "      <td>E</td>\n",
       "    </tr>\n",
       "    <tr>\n",
       "      <td>9</td>\n",
       "      <td>Duck Hunt</td>\n",
       "      <td>NES</td>\n",
       "      <td>1984.0</td>\n",
       "      <td>Shooter</td>\n",
       "      <td>26.93</td>\n",
       "      <td>0.63</td>\n",
       "      <td>0.28</td>\n",
       "      <td>0.47</td>\n",
       "      <td>NaN</td>\n",
       "      <td>NaN</td>\n",
       "      <td>NaN</td>\n",
       "    </tr>\n",
       "  </tbody>\n",
       "</table>\n",
       "</div>"
      ],
      "text/plain": [
       "                        Name Platform  Year_of_Release         Genre  \\\n",
       "0                 Wii Sports      Wii           2006.0        Sports   \n",
       "1          Super Mario Bros.      NES           1985.0      Platform   \n",
       "2             Mario Kart Wii      Wii           2008.0        Racing   \n",
       "3          Wii Sports Resort      Wii           2009.0        Sports   \n",
       "4   Pokemon Red/Pokemon Blue       GB           1996.0  Role-Playing   \n",
       "5                     Tetris       GB           1989.0        Puzzle   \n",
       "6      New Super Mario Bros.       DS           2006.0      Platform   \n",
       "7                   Wii Play      Wii           2006.0          Misc   \n",
       "8  New Super Mario Bros. Wii      Wii           2009.0      Platform   \n",
       "9                  Duck Hunt      NES           1984.0       Shooter   \n",
       "\n",
       "   NA_sales  EU_sales  JP_sales  Other_sales  Critic_Score User_Score Rating  \n",
       "0     41.36     28.96      3.77         8.45          76.0          8      E  \n",
       "1     29.08      3.58      6.81         0.77           NaN        NaN    NaN  \n",
       "2     15.68     12.76      3.79         3.29          82.0        8.3      E  \n",
       "3     15.61     10.93      3.28         2.95          80.0          8      E  \n",
       "4     11.27      8.89     10.22         1.00           NaN        NaN    NaN  \n",
       "5     23.20      2.26      4.22         0.58           NaN        NaN    NaN  \n",
       "6     11.28      9.14      6.50         2.88          89.0        8.5      E  \n",
       "7     13.96      9.18      2.93         2.84          58.0        6.6      E  \n",
       "8     14.44      6.94      4.70         2.24          87.0        8.4      E  \n",
       "9     26.93      0.63      0.28         0.47           NaN        NaN    NaN  "
      ]
     },
     "execution_count": 2,
     "metadata": {},
     "output_type": "execute_result"
    }
   ],
   "source": [
    "df_games.head(10)"
   ]
  },
  {
   "cell_type": "code",
   "execution_count": 3,
   "metadata": {},
   "outputs": [
    {
     "name": "stdout",
     "output_type": "stream",
     "text": [
      "<class 'pandas.core.frame.DataFrame'>\n",
      "RangeIndex: 16715 entries, 0 to 16714\n",
      "Data columns (total 11 columns):\n",
      "Name               16713 non-null object\n",
      "Platform           16715 non-null object\n",
      "Year_of_Release    16446 non-null float64\n",
      "Genre              16713 non-null object\n",
      "NA_sales           16715 non-null float64\n",
      "EU_sales           16715 non-null float64\n",
      "JP_sales           16715 non-null float64\n",
      "Other_sales        16715 non-null float64\n",
      "Critic_Score       8137 non-null float64\n",
      "User_Score         10014 non-null object\n",
      "Rating             9949 non-null object\n",
      "dtypes: float64(6), object(5)\n",
      "memory usage: 1.4+ MB\n"
     ]
    }
   ],
   "source": [
    "df_games.info()"
   ]
  },
  {
   "cell_type": "code",
   "execution_count": 4,
   "metadata": {},
   "outputs": [
    {
     "data": {
      "text/html": [
       "<div>\n",
       "<style scoped>\n",
       "    .dataframe tbody tr th:only-of-type {\n",
       "        vertical-align: middle;\n",
       "    }\n",
       "\n",
       "    .dataframe tbody tr th {\n",
       "        vertical-align: top;\n",
       "    }\n",
       "\n",
       "    .dataframe thead th {\n",
       "        text-align: right;\n",
       "    }\n",
       "</style>\n",
       "<table border=\"1\" class=\"dataframe\">\n",
       "  <thead>\n",
       "    <tr style=\"text-align: right;\">\n",
       "      <th></th>\n",
       "      <th>Year_of_Release</th>\n",
       "      <th>NA_sales</th>\n",
       "      <th>EU_sales</th>\n",
       "      <th>JP_sales</th>\n",
       "      <th>Other_sales</th>\n",
       "      <th>Critic_Score</th>\n",
       "    </tr>\n",
       "  </thead>\n",
       "  <tbody>\n",
       "    <tr>\n",
       "      <td>count</td>\n",
       "      <td>16446.000000</td>\n",
       "      <td>16715.000000</td>\n",
       "      <td>16715.000000</td>\n",
       "      <td>16715.000000</td>\n",
       "      <td>16715.000000</td>\n",
       "      <td>8137.000000</td>\n",
       "    </tr>\n",
       "    <tr>\n",
       "      <td>mean</td>\n",
       "      <td>2006.484616</td>\n",
       "      <td>0.263377</td>\n",
       "      <td>0.145060</td>\n",
       "      <td>0.077617</td>\n",
       "      <td>0.047342</td>\n",
       "      <td>68.967679</td>\n",
       "    </tr>\n",
       "    <tr>\n",
       "      <td>std</td>\n",
       "      <td>5.877050</td>\n",
       "      <td>0.813604</td>\n",
       "      <td>0.503339</td>\n",
       "      <td>0.308853</td>\n",
       "      <td>0.186731</td>\n",
       "      <td>13.938165</td>\n",
       "    </tr>\n",
       "    <tr>\n",
       "      <td>min</td>\n",
       "      <td>1980.000000</td>\n",
       "      <td>0.000000</td>\n",
       "      <td>0.000000</td>\n",
       "      <td>0.000000</td>\n",
       "      <td>0.000000</td>\n",
       "      <td>13.000000</td>\n",
       "    </tr>\n",
       "    <tr>\n",
       "      <td>25%</td>\n",
       "      <td>2003.000000</td>\n",
       "      <td>0.000000</td>\n",
       "      <td>0.000000</td>\n",
       "      <td>0.000000</td>\n",
       "      <td>0.000000</td>\n",
       "      <td>60.000000</td>\n",
       "    </tr>\n",
       "    <tr>\n",
       "      <td>50%</td>\n",
       "      <td>2007.000000</td>\n",
       "      <td>0.080000</td>\n",
       "      <td>0.020000</td>\n",
       "      <td>0.000000</td>\n",
       "      <td>0.010000</td>\n",
       "      <td>71.000000</td>\n",
       "    </tr>\n",
       "    <tr>\n",
       "      <td>75%</td>\n",
       "      <td>2010.000000</td>\n",
       "      <td>0.240000</td>\n",
       "      <td>0.110000</td>\n",
       "      <td>0.040000</td>\n",
       "      <td>0.030000</td>\n",
       "      <td>79.000000</td>\n",
       "    </tr>\n",
       "    <tr>\n",
       "      <td>max</td>\n",
       "      <td>2016.000000</td>\n",
       "      <td>41.360000</td>\n",
       "      <td>28.960000</td>\n",
       "      <td>10.220000</td>\n",
       "      <td>10.570000</td>\n",
       "      <td>98.000000</td>\n",
       "    </tr>\n",
       "  </tbody>\n",
       "</table>\n",
       "</div>"
      ],
      "text/plain": [
       "       Year_of_Release      NA_sales      EU_sales      JP_sales  \\\n",
       "count     16446.000000  16715.000000  16715.000000  16715.000000   \n",
       "mean       2006.484616      0.263377      0.145060      0.077617   \n",
       "std           5.877050      0.813604      0.503339      0.308853   \n",
       "min        1980.000000      0.000000      0.000000      0.000000   \n",
       "25%        2003.000000      0.000000      0.000000      0.000000   \n",
       "50%        2007.000000      0.080000      0.020000      0.000000   \n",
       "75%        2010.000000      0.240000      0.110000      0.040000   \n",
       "max        2016.000000     41.360000     28.960000     10.220000   \n",
       "\n",
       "        Other_sales  Critic_Score  \n",
       "count  16715.000000   8137.000000  \n",
       "mean       0.047342     68.967679  \n",
       "std        0.186731     13.938165  \n",
       "min        0.000000     13.000000  \n",
       "25%        0.000000     60.000000  \n",
       "50%        0.010000     71.000000  \n",
       "75%        0.030000     79.000000  \n",
       "max       10.570000     98.000000  "
      ]
     },
     "execution_count": 4,
     "metadata": {},
     "output_type": "execute_result"
    }
   ],
   "source": [
    "df_games.describe()"
   ]
  },
  {
   "cell_type": "code",
   "execution_count": 5,
   "metadata": {},
   "outputs": [
    {
     "data": {
      "text/html": [
       "<div>\n",
       "<style scoped>\n",
       "    .dataframe tbody tr th:only-of-type {\n",
       "        vertical-align: middle;\n",
       "    }\n",
       "\n",
       "    .dataframe tbody tr th {\n",
       "        vertical-align: top;\n",
       "    }\n",
       "\n",
       "    .dataframe thead th {\n",
       "        text-align: right;\n",
       "    }\n",
       "</style>\n",
       "<table border=\"1\" class=\"dataframe\">\n",
       "  <thead>\n",
       "    <tr style=\"text-align: right;\">\n",
       "      <th></th>\n",
       "      <th>Name</th>\n",
       "      <th>Platform</th>\n",
       "      <th>Genre</th>\n",
       "      <th>User_Score</th>\n",
       "      <th>Rating</th>\n",
       "    </tr>\n",
       "  </thead>\n",
       "  <tbody>\n",
       "    <tr>\n",
       "      <td>count</td>\n",
       "      <td>16713</td>\n",
       "      <td>16715</td>\n",
       "      <td>16713</td>\n",
       "      <td>10014</td>\n",
       "      <td>9949</td>\n",
       "    </tr>\n",
       "    <tr>\n",
       "      <td>unique</td>\n",
       "      <td>11559</td>\n",
       "      <td>31</td>\n",
       "      <td>12</td>\n",
       "      <td>96</td>\n",
       "      <td>8</td>\n",
       "    </tr>\n",
       "    <tr>\n",
       "      <td>top</td>\n",
       "      <td>Need for Speed: Most Wanted</td>\n",
       "      <td>PS2</td>\n",
       "      <td>Action</td>\n",
       "      <td>tbd</td>\n",
       "      <td>E</td>\n",
       "    </tr>\n",
       "    <tr>\n",
       "      <td>freq</td>\n",
       "      <td>12</td>\n",
       "      <td>2161</td>\n",
       "      <td>3369</td>\n",
       "      <td>2424</td>\n",
       "      <td>3990</td>\n",
       "    </tr>\n",
       "  </tbody>\n",
       "</table>\n",
       "</div>"
      ],
      "text/plain": [
       "                               Name Platform   Genre User_Score Rating\n",
       "count                         16713    16715   16713      10014   9949\n",
       "unique                        11559       31      12         96      8\n",
       "top     Need for Speed: Most Wanted      PS2  Action        tbd      E\n",
       "freq                             12     2161    3369       2424   3990"
      ]
     },
     "execution_count": 5,
     "metadata": {},
     "output_type": "execute_result"
    }
   ],
   "source": [
    "df_games.describe(include=object)"
   ]
  },
  {
   "cell_type": "markdown",
   "metadata": {},
   "source": [
    "### Conclusion:"
   ]
  },
  {
   "cell_type": "markdown",
   "metadata": {},
   "source": [
    "We opened the file, studied the general information.\n",
    "There are 16715 rows of data.\n",
    "We found the following issues in the dataset, that we will fix in the next step:\n",
    "* Column names should be changed to lower case.\n",
    "* user_score column type should be float (score is a number, not a string), year_of_release should be int (years are int).\n",
    "* We have missing values in 6 columns (name, year_of_release, genre, critic_Score, user_Score, rating).\n",
    "* user_score has 'tbd' value, which we will replace in the next step. 'To be Determined' - There is no actual value, so I'll treat it as NaN.\n",
    "\n",
    "The data could potentially contain outliers, according to the data description."
   ]
  },
  {
   "cell_type": "markdown",
   "metadata": {},
   "source": [
    "### 2. Prepare the data:"
   ]
  },
  {
   "cell_type": "markdown",
   "metadata": {},
   "source": [
    "* **Replacing column names:**"
   ]
  },
  {
   "cell_type": "code",
   "execution_count": 6,
   "metadata": {},
   "outputs": [
    {
     "data": {
      "text/plain": [
       "Index(['name', 'platform', 'year_of_release', 'genre', 'na_sales', 'eu_sales',\n",
       "       'jp_sales', 'other_sales', 'critic_score', 'user_score', 'rating'],\n",
       "      dtype='object')"
      ]
     },
     "execution_count": 6,
     "metadata": {},
     "output_type": "execute_result"
    }
   ],
   "source": [
    "df_games.columns = df_games.columns.str.lower()\n",
    "df_games.columns"
   ]
  },
  {
   "cell_type": "markdown",
   "metadata": {},
   "source": [
    "* **Fill missing values:**"
   ]
  },
  {
   "cell_type": "code",
   "execution_count": 7,
   "metadata": {},
   "outputs": [
    {
     "data": {
      "text/plain": [
       "name                  2\n",
       "platform              0\n",
       "year_of_release     269\n",
       "genre                 2\n",
       "na_sales              0\n",
       "eu_sales              0\n",
       "jp_sales              0\n",
       "other_sales           0\n",
       "critic_score       8578\n",
       "user_score         6701\n",
       "rating             6766\n",
       "dtype: int64"
      ]
     },
     "execution_count": 7,
     "metadata": {},
     "output_type": "execute_result"
    }
   ],
   "source": [
    "df_games.isnull().sum()"
   ]
  },
  {
   "cell_type": "code",
   "execution_count": 8,
   "metadata": {},
   "outputs": [
    {
     "data": {
      "text/plain": [
       "name               0.000120\n",
       "platform           0.000000\n",
       "year_of_release    0.016093\n",
       "genre              0.000120\n",
       "na_sales           0.000000\n",
       "eu_sales           0.000000\n",
       "jp_sales           0.000000\n",
       "other_sales        0.000000\n",
       "critic_score       0.513192\n",
       "user_score         0.400897\n",
       "rating             0.404786\n",
       "dtype: float64"
      ]
     },
     "execution_count": 8,
     "metadata": {},
     "output_type": "execute_result"
    }
   ],
   "source": [
    "df_games.isnull().sum()/len(df_games)"
   ]
  },
  {
   "cell_type": "markdown",
   "metadata": {},
   "source": [
    "2 rows missing name and genre value, let's check if it's the same rows: "
   ]
  },
  {
   "cell_type": "code",
   "execution_count": 9,
   "metadata": {},
   "outputs": [
    {
     "data": {
      "text/html": [
       "<div>\n",
       "<style scoped>\n",
       "    .dataframe tbody tr th:only-of-type {\n",
       "        vertical-align: middle;\n",
       "    }\n",
       "\n",
       "    .dataframe tbody tr th {\n",
       "        vertical-align: top;\n",
       "    }\n",
       "\n",
       "    .dataframe thead th {\n",
       "        text-align: right;\n",
       "    }\n",
       "</style>\n",
       "<table border=\"1\" class=\"dataframe\">\n",
       "  <thead>\n",
       "    <tr style=\"text-align: right;\">\n",
       "      <th></th>\n",
       "      <th>name</th>\n",
       "      <th>platform</th>\n",
       "      <th>year_of_release</th>\n",
       "      <th>genre</th>\n",
       "      <th>na_sales</th>\n",
       "      <th>eu_sales</th>\n",
       "      <th>jp_sales</th>\n",
       "      <th>other_sales</th>\n",
       "      <th>critic_score</th>\n",
       "      <th>user_score</th>\n",
       "      <th>rating</th>\n",
       "    </tr>\n",
       "  </thead>\n",
       "  <tbody>\n",
       "    <tr>\n",
       "      <td>659</td>\n",
       "      <td>NaN</td>\n",
       "      <td>GEN</td>\n",
       "      <td>1993.0</td>\n",
       "      <td>NaN</td>\n",
       "      <td>1.78</td>\n",
       "      <td>0.53</td>\n",
       "      <td>0.00</td>\n",
       "      <td>0.08</td>\n",
       "      <td>NaN</td>\n",
       "      <td>NaN</td>\n",
       "      <td>NaN</td>\n",
       "    </tr>\n",
       "    <tr>\n",
       "      <td>14244</td>\n",
       "      <td>NaN</td>\n",
       "      <td>GEN</td>\n",
       "      <td>1993.0</td>\n",
       "      <td>NaN</td>\n",
       "      <td>0.00</td>\n",
       "      <td>0.00</td>\n",
       "      <td>0.03</td>\n",
       "      <td>0.00</td>\n",
       "      <td>NaN</td>\n",
       "      <td>NaN</td>\n",
       "      <td>NaN</td>\n",
       "    </tr>\n",
       "  </tbody>\n",
       "</table>\n",
       "</div>"
      ],
      "text/plain": [
       "      name platform  year_of_release genre  na_sales  eu_sales  jp_sales  \\\n",
       "659    NaN      GEN           1993.0   NaN      1.78      0.53      0.00   \n",
       "14244  NaN      GEN           1993.0   NaN      0.00      0.00      0.03   \n",
       "\n",
       "       other_sales  critic_score user_score rating  \n",
       "659           0.08           NaN        NaN    NaN  \n",
       "14244         0.00           NaN        NaN    NaN  "
      ]
     },
     "execution_count": 9,
     "metadata": {},
     "output_type": "execute_result"
    }
   ],
   "source": [
    "df_games[df_games['name'].isnull()]"
   ]
  },
  {
   "cell_type": "markdown",
   "metadata": {},
   "source": [
    "It's indeed the same rows. More values are missing from both games, while they released a long time ago (1993), we don't know their names and the sales are minimal. We are safe to remove those rows, as they won't affect our analysis:"
   ]
  },
  {
   "cell_type": "code",
   "execution_count": 10,
   "metadata": {},
   "outputs": [
    {
     "data": {
      "text/plain": [
       "(16713, 11)"
      ]
     },
     "execution_count": 10,
     "metadata": {},
     "output_type": "execute_result"
    }
   ],
   "source": [
    "df_games = df_games.dropna(subset=['name'], axis=0).reset_index(drop=True)\n",
    "df_games.shape"
   ]
  },
  {
   "cell_type": "markdown",
   "metadata": {},
   "source": [
    "Let's look at some rows missing year and see if there's a pattern:"
   ]
  },
  {
   "cell_type": "code",
   "execution_count": 11,
   "metadata": {},
   "outputs": [
    {
     "data": {
      "text/html": [
       "<div>\n",
       "<style scoped>\n",
       "    .dataframe tbody tr th:only-of-type {\n",
       "        vertical-align: middle;\n",
       "    }\n",
       "\n",
       "    .dataframe tbody tr th {\n",
       "        vertical-align: top;\n",
       "    }\n",
       "\n",
       "    .dataframe thead th {\n",
       "        text-align: right;\n",
       "    }\n",
       "</style>\n",
       "<table border=\"1\" class=\"dataframe\">\n",
       "  <thead>\n",
       "    <tr style=\"text-align: right;\">\n",
       "      <th></th>\n",
       "      <th>name</th>\n",
       "      <th>platform</th>\n",
       "      <th>year_of_release</th>\n",
       "      <th>genre</th>\n",
       "      <th>na_sales</th>\n",
       "      <th>eu_sales</th>\n",
       "      <th>jp_sales</th>\n",
       "      <th>other_sales</th>\n",
       "      <th>critic_score</th>\n",
       "      <th>user_score</th>\n",
       "      <th>rating</th>\n",
       "    </tr>\n",
       "  </thead>\n",
       "  <tbody>\n",
       "    <tr>\n",
       "      <td>183</td>\n",
       "      <td>Madden NFL 2004</td>\n",
       "      <td>PS2</td>\n",
       "      <td>NaN</td>\n",
       "      <td>Sports</td>\n",
       "      <td>4.26</td>\n",
       "      <td>0.26</td>\n",
       "      <td>0.01</td>\n",
       "      <td>0.71</td>\n",
       "      <td>94.0</td>\n",
       "      <td>8.5</td>\n",
       "      <td>E</td>\n",
       "    </tr>\n",
       "    <tr>\n",
       "      <td>377</td>\n",
       "      <td>FIFA Soccer 2004</td>\n",
       "      <td>PS2</td>\n",
       "      <td>NaN</td>\n",
       "      <td>Sports</td>\n",
       "      <td>0.59</td>\n",
       "      <td>2.36</td>\n",
       "      <td>0.04</td>\n",
       "      <td>0.51</td>\n",
       "      <td>84.0</td>\n",
       "      <td>6.4</td>\n",
       "      <td>E</td>\n",
       "    </tr>\n",
       "    <tr>\n",
       "      <td>456</td>\n",
       "      <td>LEGO Batman: The Videogame</td>\n",
       "      <td>Wii</td>\n",
       "      <td>NaN</td>\n",
       "      <td>Action</td>\n",
       "      <td>1.80</td>\n",
       "      <td>0.97</td>\n",
       "      <td>0.00</td>\n",
       "      <td>0.29</td>\n",
       "      <td>74.0</td>\n",
       "      <td>7.9</td>\n",
       "      <td>E10+</td>\n",
       "    </tr>\n",
       "    <tr>\n",
       "      <td>475</td>\n",
       "      <td>wwe Smackdown vs. Raw 2006</td>\n",
       "      <td>PS2</td>\n",
       "      <td>NaN</td>\n",
       "      <td>Fighting</td>\n",
       "      <td>1.57</td>\n",
       "      <td>1.02</td>\n",
       "      <td>0.00</td>\n",
       "      <td>0.41</td>\n",
       "      <td>NaN</td>\n",
       "      <td>NaN</td>\n",
       "      <td>NaN</td>\n",
       "    </tr>\n",
       "    <tr>\n",
       "      <td>609</td>\n",
       "      <td>Space Invaders</td>\n",
       "      <td>2600</td>\n",
       "      <td>NaN</td>\n",
       "      <td>Shooter</td>\n",
       "      <td>2.36</td>\n",
       "      <td>0.14</td>\n",
       "      <td>0.00</td>\n",
       "      <td>0.03</td>\n",
       "      <td>NaN</td>\n",
       "      <td>NaN</td>\n",
       "      <td>NaN</td>\n",
       "    </tr>\n",
       "    <tr>\n",
       "      <td>627</td>\n",
       "      <td>Rock Band</td>\n",
       "      <td>X360</td>\n",
       "      <td>NaN</td>\n",
       "      <td>Misc</td>\n",
       "      <td>1.93</td>\n",
       "      <td>0.33</td>\n",
       "      <td>0.00</td>\n",
       "      <td>0.21</td>\n",
       "      <td>92.0</td>\n",
       "      <td>8.2</td>\n",
       "      <td>T</td>\n",
       "    </tr>\n",
       "    <tr>\n",
       "      <td>657</td>\n",
       "      <td>Frogger's Adventures: Temple of the Frog</td>\n",
       "      <td>GBA</td>\n",
       "      <td>NaN</td>\n",
       "      <td>Adventure</td>\n",
       "      <td>2.15</td>\n",
       "      <td>0.18</td>\n",
       "      <td>0.00</td>\n",
       "      <td>0.07</td>\n",
       "      <td>73.0</td>\n",
       "      <td>tbd</td>\n",
       "      <td>E</td>\n",
       "    </tr>\n",
       "    <tr>\n",
       "      <td>677</td>\n",
       "      <td>LEGO Indiana Jones: The Original Adventures</td>\n",
       "      <td>Wii</td>\n",
       "      <td>NaN</td>\n",
       "      <td>Action</td>\n",
       "      <td>1.51</td>\n",
       "      <td>0.61</td>\n",
       "      <td>0.00</td>\n",
       "      <td>0.21</td>\n",
       "      <td>78.0</td>\n",
       "      <td>6.6</td>\n",
       "      <td>E10+</td>\n",
       "    </tr>\n",
       "    <tr>\n",
       "      <td>718</td>\n",
       "      <td>Call of Duty 3</td>\n",
       "      <td>Wii</td>\n",
       "      <td>NaN</td>\n",
       "      <td>Shooter</td>\n",
       "      <td>1.17</td>\n",
       "      <td>0.84</td>\n",
       "      <td>0.00</td>\n",
       "      <td>0.23</td>\n",
       "      <td>69.0</td>\n",
       "      <td>6.7</td>\n",
       "      <td>T</td>\n",
       "    </tr>\n",
       "    <tr>\n",
       "      <td>804</td>\n",
       "      <td>Rock Band</td>\n",
       "      <td>Wii</td>\n",
       "      <td>NaN</td>\n",
       "      <td>Misc</td>\n",
       "      <td>1.33</td>\n",
       "      <td>0.56</td>\n",
       "      <td>0.00</td>\n",
       "      <td>0.20</td>\n",
       "      <td>80.0</td>\n",
       "      <td>6.3</td>\n",
       "      <td>T</td>\n",
       "    </tr>\n",
       "  </tbody>\n",
       "</table>\n",
       "</div>"
      ],
      "text/plain": [
       "                                            name platform  year_of_release  \\\n",
       "183                              Madden NFL 2004      PS2              NaN   \n",
       "377                             FIFA Soccer 2004      PS2              NaN   \n",
       "456                   LEGO Batman: The Videogame      Wii              NaN   \n",
       "475                   wwe Smackdown vs. Raw 2006      PS2              NaN   \n",
       "609                               Space Invaders     2600              NaN   \n",
       "627                                    Rock Band     X360              NaN   \n",
       "657     Frogger's Adventures: Temple of the Frog      GBA              NaN   \n",
       "677  LEGO Indiana Jones: The Original Adventures      Wii              NaN   \n",
       "718                               Call of Duty 3      Wii              NaN   \n",
       "804                                    Rock Band      Wii              NaN   \n",
       "\n",
       "         genre  na_sales  eu_sales  jp_sales  other_sales  critic_score  \\\n",
       "183     Sports      4.26      0.26      0.01         0.71          94.0   \n",
       "377     Sports      0.59      2.36      0.04         0.51          84.0   \n",
       "456     Action      1.80      0.97      0.00         0.29          74.0   \n",
       "475   Fighting      1.57      1.02      0.00         0.41           NaN   \n",
       "609    Shooter      2.36      0.14      0.00         0.03           NaN   \n",
       "627       Misc      1.93      0.33      0.00         0.21          92.0   \n",
       "657  Adventure      2.15      0.18      0.00         0.07          73.0   \n",
       "677     Action      1.51      0.61      0.00         0.21          78.0   \n",
       "718    Shooter      1.17      0.84      0.00         0.23          69.0   \n",
       "804       Misc      1.33      0.56      0.00         0.20          80.0   \n",
       "\n",
       "    user_score rating  \n",
       "183        8.5      E  \n",
       "377        6.4      E  \n",
       "456        7.9   E10+  \n",
       "475        NaN    NaN  \n",
       "609        NaN    NaN  \n",
       "627        8.2      T  \n",
       "657        tbd      E  \n",
       "677        6.6   E10+  \n",
       "718        6.7      T  \n",
       "804        6.3      T  "
      ]
     },
     "execution_count": 11,
     "metadata": {},
     "output_type": "execute_result"
    }
   ],
   "source": [
    "df_games[df_games['year_of_release'].isnull()].head(10)"
   ]
  },
  {
   "cell_type": "markdown",
   "metadata": {},
   "source": [
    "We can't find any similarity between the different games. We can see games from 2004 (both FIFA and Madden), so we can assume that a possible reason for the missing years is that the games released years ago, their sales numbers aren't that relevant for the current day numbers, so while inputting the data it wasn't important to fill each years for those games. There are no outliers in this column according to the describe result from previous the step, and the amount of missing rows is negligible, so we can fill the missing values with the mean of the games from the same platform and genre."
   ]
  },
  {
   "cell_type": "code",
   "execution_count": 12,
   "metadata": {},
   "outputs": [
    {
     "data": {
      "text/plain": [
       "0"
      ]
     },
     "execution_count": 12,
     "metadata": {},
     "output_type": "execute_result"
    }
   ],
   "source": [
    "df_games['year_of_release'].fillna(df_games.groupby(['platform','genre'])['year_of_release'].transform('mean'),inplace=True)\n",
    "df_games['year_of_release'].isnull().sum()"
   ]
  },
  {
   "cell_type": "markdown",
   "metadata": {},
   "source": [
    "We'll change the type to int:"
   ]
  },
  {
   "cell_type": "code",
   "execution_count": 13,
   "metadata": {},
   "outputs": [],
   "source": [
    "df_games['year_of_release'] = np.floor(df_games['year_of_release']).astype(int)"
   ]
  },
  {
   "cell_type": "markdown",
   "metadata": {},
   "source": [
    "We have missing values in the rating column, let's take a look and see if there's a pattern:"
   ]
  },
  {
   "cell_type": "code",
   "execution_count": 14,
   "metadata": {},
   "outputs": [
    {
     "data": {
      "text/plain": [
       "6764"
      ]
     },
     "execution_count": 14,
     "metadata": {},
     "output_type": "execute_result"
    }
   ],
   "source": [
    "df_games['rating'].isnull().sum()"
   ]
  },
  {
   "cell_type": "code",
   "execution_count": 15,
   "metadata": {},
   "outputs": [
    {
     "data": {
      "text/html": [
       "<div>\n",
       "<style scoped>\n",
       "    .dataframe tbody tr th:only-of-type {\n",
       "        vertical-align: middle;\n",
       "    }\n",
       "\n",
       "    .dataframe tbody tr th {\n",
       "        vertical-align: top;\n",
       "    }\n",
       "\n",
       "    .dataframe thead th {\n",
       "        text-align: right;\n",
       "    }\n",
       "</style>\n",
       "<table border=\"1\" class=\"dataframe\">\n",
       "  <thead>\n",
       "    <tr style=\"text-align: right;\">\n",
       "      <th></th>\n",
       "      <th>name</th>\n",
       "      <th>platform</th>\n",
       "      <th>year_of_release</th>\n",
       "      <th>genre</th>\n",
       "      <th>na_sales</th>\n",
       "      <th>eu_sales</th>\n",
       "      <th>jp_sales</th>\n",
       "      <th>other_sales</th>\n",
       "      <th>critic_score</th>\n",
       "      <th>user_score</th>\n",
       "      <th>rating</th>\n",
       "    </tr>\n",
       "  </thead>\n",
       "  <tbody>\n",
       "    <tr>\n",
       "      <td>1</td>\n",
       "      <td>Super Mario Bros.</td>\n",
       "      <td>NES</td>\n",
       "      <td>1985</td>\n",
       "      <td>Platform</td>\n",
       "      <td>29.08</td>\n",
       "      <td>3.58</td>\n",
       "      <td>6.81</td>\n",
       "      <td>0.77</td>\n",
       "      <td>NaN</td>\n",
       "      <td>NaN</td>\n",
       "      <td>NaN</td>\n",
       "    </tr>\n",
       "    <tr>\n",
       "      <td>4</td>\n",
       "      <td>Pokemon Red/Pokemon Blue</td>\n",
       "      <td>GB</td>\n",
       "      <td>1996</td>\n",
       "      <td>Role-Playing</td>\n",
       "      <td>11.27</td>\n",
       "      <td>8.89</td>\n",
       "      <td>10.22</td>\n",
       "      <td>1.00</td>\n",
       "      <td>NaN</td>\n",
       "      <td>NaN</td>\n",
       "      <td>NaN</td>\n",
       "    </tr>\n",
       "    <tr>\n",
       "      <td>5</td>\n",
       "      <td>Tetris</td>\n",
       "      <td>GB</td>\n",
       "      <td>1989</td>\n",
       "      <td>Puzzle</td>\n",
       "      <td>23.20</td>\n",
       "      <td>2.26</td>\n",
       "      <td>4.22</td>\n",
       "      <td>0.58</td>\n",
       "      <td>NaN</td>\n",
       "      <td>NaN</td>\n",
       "      <td>NaN</td>\n",
       "    </tr>\n",
       "    <tr>\n",
       "      <td>9</td>\n",
       "      <td>Duck Hunt</td>\n",
       "      <td>NES</td>\n",
       "      <td>1984</td>\n",
       "      <td>Shooter</td>\n",
       "      <td>26.93</td>\n",
       "      <td>0.63</td>\n",
       "      <td>0.28</td>\n",
       "      <td>0.47</td>\n",
       "      <td>NaN</td>\n",
       "      <td>NaN</td>\n",
       "      <td>NaN</td>\n",
       "    </tr>\n",
       "    <tr>\n",
       "      <td>10</td>\n",
       "      <td>Nintendogs</td>\n",
       "      <td>DS</td>\n",
       "      <td>2005</td>\n",
       "      <td>Simulation</td>\n",
       "      <td>9.05</td>\n",
       "      <td>10.95</td>\n",
       "      <td>1.93</td>\n",
       "      <td>2.74</td>\n",
       "      <td>NaN</td>\n",
       "      <td>NaN</td>\n",
       "      <td>NaN</td>\n",
       "    </tr>\n",
       "    <tr>\n",
       "      <td>12</td>\n",
       "      <td>Pokemon Gold/Pokemon Silver</td>\n",
       "      <td>GB</td>\n",
       "      <td>1999</td>\n",
       "      <td>Role-Playing</td>\n",
       "      <td>9.00</td>\n",
       "      <td>6.18</td>\n",
       "      <td>7.20</td>\n",
       "      <td>0.71</td>\n",
       "      <td>NaN</td>\n",
       "      <td>NaN</td>\n",
       "      <td>NaN</td>\n",
       "    </tr>\n",
       "    <tr>\n",
       "      <td>18</td>\n",
       "      <td>Super Mario World</td>\n",
       "      <td>SNES</td>\n",
       "      <td>1990</td>\n",
       "      <td>Platform</td>\n",
       "      <td>12.78</td>\n",
       "      <td>3.75</td>\n",
       "      <td>3.54</td>\n",
       "      <td>0.55</td>\n",
       "      <td>NaN</td>\n",
       "      <td>NaN</td>\n",
       "      <td>NaN</td>\n",
       "    </tr>\n",
       "    <tr>\n",
       "      <td>20</td>\n",
       "      <td>Pokemon Diamond/Pokemon Pearl</td>\n",
       "      <td>DS</td>\n",
       "      <td>2006</td>\n",
       "      <td>Role-Playing</td>\n",
       "      <td>6.38</td>\n",
       "      <td>4.46</td>\n",
       "      <td>6.04</td>\n",
       "      <td>1.36</td>\n",
       "      <td>NaN</td>\n",
       "      <td>NaN</td>\n",
       "      <td>NaN</td>\n",
       "    </tr>\n",
       "    <tr>\n",
       "      <td>21</td>\n",
       "      <td>Super Mario Land</td>\n",
       "      <td>GB</td>\n",
       "      <td>1989</td>\n",
       "      <td>Platform</td>\n",
       "      <td>10.83</td>\n",
       "      <td>2.71</td>\n",
       "      <td>4.18</td>\n",
       "      <td>0.42</td>\n",
       "      <td>NaN</td>\n",
       "      <td>NaN</td>\n",
       "      <td>NaN</td>\n",
       "    </tr>\n",
       "    <tr>\n",
       "      <td>22</td>\n",
       "      <td>Super Mario Bros. 3</td>\n",
       "      <td>NES</td>\n",
       "      <td>1988</td>\n",
       "      <td>Platform</td>\n",
       "      <td>9.54</td>\n",
       "      <td>3.44</td>\n",
       "      <td>3.84</td>\n",
       "      <td>0.46</td>\n",
       "      <td>NaN</td>\n",
       "      <td>NaN</td>\n",
       "      <td>NaN</td>\n",
       "    </tr>\n",
       "  </tbody>\n",
       "</table>\n",
       "</div>"
      ],
      "text/plain": [
       "                             name platform  year_of_release         genre  \\\n",
       "1               Super Mario Bros.      NES             1985      Platform   \n",
       "4        Pokemon Red/Pokemon Blue       GB             1996  Role-Playing   \n",
       "5                          Tetris       GB             1989        Puzzle   \n",
       "9                       Duck Hunt      NES             1984       Shooter   \n",
       "10                     Nintendogs       DS             2005    Simulation   \n",
       "12    Pokemon Gold/Pokemon Silver       GB             1999  Role-Playing   \n",
       "18              Super Mario World     SNES             1990      Platform   \n",
       "20  Pokemon Diamond/Pokemon Pearl       DS             2006  Role-Playing   \n",
       "21               Super Mario Land       GB             1989      Platform   \n",
       "22            Super Mario Bros. 3      NES             1988      Platform   \n",
       "\n",
       "    na_sales  eu_sales  jp_sales  other_sales  critic_score user_score rating  \n",
       "1      29.08      3.58      6.81         0.77           NaN        NaN    NaN  \n",
       "4      11.27      8.89     10.22         1.00           NaN        NaN    NaN  \n",
       "5      23.20      2.26      4.22         0.58           NaN        NaN    NaN  \n",
       "9      26.93      0.63      0.28         0.47           NaN        NaN    NaN  \n",
       "10      9.05     10.95      1.93         2.74           NaN        NaN    NaN  \n",
       "12      9.00      6.18      7.20         0.71           NaN        NaN    NaN  \n",
       "18     12.78      3.75      3.54         0.55           NaN        NaN    NaN  \n",
       "20      6.38      4.46      6.04         1.36           NaN        NaN    NaN  \n",
       "21     10.83      2.71      4.18         0.42           NaN        NaN    NaN  \n",
       "22      9.54      3.44      3.84         0.46           NaN        NaN    NaN  "
      ]
     },
     "execution_count": 15,
     "metadata": {},
     "output_type": "execute_result"
    }
   ],
   "source": [
    "df_games[df_games['rating'].isnull()].head(10)"
   ]
  },
  {
   "cell_type": "markdown",
   "metadata": {},
   "source": [
    "Again, there doesn't seem to be a pattern for the missing rating values. 40% of the games missing it. Possible reason is a human error while inputting the data. Some of the the games that missing rating, miss it just in a specific platform. For those, we'll fill the rating with the mode of the ratings. For the rest I'll use the mode of the same genre."
   ]
  },
  {
   "cell_type": "code",
   "execution_count": 16,
   "metadata": {},
   "outputs": [
    {
     "data": {
      "text/plain": [
       "6327"
      ]
     },
     "execution_count": 16,
     "metadata": {},
     "output_type": "execute_result"
    }
   ],
   "source": [
    "df_games['rating'] = df_games.groupby('name')['rating'].apply(lambda x: x.fillna(x.mode()[0]) if x.value_counts().sum() > 0 else x)\n",
    "df_games['rating'].isnull().sum()"
   ]
  },
  {
   "cell_type": "code",
   "execution_count": 17,
   "metadata": {},
   "outputs": [
    {
     "data": {
      "text/plain": [
       "0"
      ]
     },
     "execution_count": 17,
     "metadata": {},
     "output_type": "execute_result"
    }
   ],
   "source": [
    "df_games['rating'].fillna(df_games.groupby(['genre'])['rating'].transform(lambda x: x.fillna(x.mode()[0])),inplace=True)\n",
    "df_games['rating'].isnull().sum()"
   ]
  },
  {
   "cell_type": "markdown",
   "metadata": {},
   "source": [
    "We are left with missing values in both score columns. Let's see if there's a pattern:"
   ]
  },
  {
   "cell_type": "code",
   "execution_count": 18,
   "metadata": {},
   "outputs": [
    {
     "data": {
      "text/html": [
       "<div>\n",
       "<style scoped>\n",
       "    .dataframe tbody tr th:only-of-type {\n",
       "        vertical-align: middle;\n",
       "    }\n",
       "\n",
       "    .dataframe tbody tr th {\n",
       "        vertical-align: top;\n",
       "    }\n",
       "\n",
       "    .dataframe thead th {\n",
       "        text-align: right;\n",
       "    }\n",
       "</style>\n",
       "<table border=\"1\" class=\"dataframe\">\n",
       "  <thead>\n",
       "    <tr style=\"text-align: right;\">\n",
       "      <th></th>\n",
       "      <th>name</th>\n",
       "      <th>platform</th>\n",
       "      <th>year_of_release</th>\n",
       "      <th>genre</th>\n",
       "      <th>na_sales</th>\n",
       "      <th>eu_sales</th>\n",
       "      <th>jp_sales</th>\n",
       "      <th>other_sales</th>\n",
       "      <th>critic_score</th>\n",
       "      <th>user_score</th>\n",
       "      <th>rating</th>\n",
       "    </tr>\n",
       "  </thead>\n",
       "  <tbody>\n",
       "    <tr>\n",
       "      <td>1</td>\n",
       "      <td>Super Mario Bros.</td>\n",
       "      <td>NES</td>\n",
       "      <td>1985</td>\n",
       "      <td>Platform</td>\n",
       "      <td>29.08</td>\n",
       "      <td>3.58</td>\n",
       "      <td>6.81</td>\n",
       "      <td>0.77</td>\n",
       "      <td>NaN</td>\n",
       "      <td>NaN</td>\n",
       "      <td>E</td>\n",
       "    </tr>\n",
       "    <tr>\n",
       "      <td>4</td>\n",
       "      <td>Pokemon Red/Pokemon Blue</td>\n",
       "      <td>GB</td>\n",
       "      <td>1996</td>\n",
       "      <td>Role-Playing</td>\n",
       "      <td>11.27</td>\n",
       "      <td>8.89</td>\n",
       "      <td>10.22</td>\n",
       "      <td>1.00</td>\n",
       "      <td>NaN</td>\n",
       "      <td>NaN</td>\n",
       "      <td>T</td>\n",
       "    </tr>\n",
       "    <tr>\n",
       "      <td>5</td>\n",
       "      <td>Tetris</td>\n",
       "      <td>GB</td>\n",
       "      <td>1989</td>\n",
       "      <td>Puzzle</td>\n",
       "      <td>23.20</td>\n",
       "      <td>2.26</td>\n",
       "      <td>4.22</td>\n",
       "      <td>0.58</td>\n",
       "      <td>NaN</td>\n",
       "      <td>NaN</td>\n",
       "      <td>E</td>\n",
       "    </tr>\n",
       "    <tr>\n",
       "      <td>9</td>\n",
       "      <td>Duck Hunt</td>\n",
       "      <td>NES</td>\n",
       "      <td>1984</td>\n",
       "      <td>Shooter</td>\n",
       "      <td>26.93</td>\n",
       "      <td>0.63</td>\n",
       "      <td>0.28</td>\n",
       "      <td>0.47</td>\n",
       "      <td>NaN</td>\n",
       "      <td>NaN</td>\n",
       "      <td>M</td>\n",
       "    </tr>\n",
       "    <tr>\n",
       "      <td>10</td>\n",
       "      <td>Nintendogs</td>\n",
       "      <td>DS</td>\n",
       "      <td>2005</td>\n",
       "      <td>Simulation</td>\n",
       "      <td>9.05</td>\n",
       "      <td>10.95</td>\n",
       "      <td>1.93</td>\n",
       "      <td>2.74</td>\n",
       "      <td>NaN</td>\n",
       "      <td>NaN</td>\n",
       "      <td>E</td>\n",
       "    </tr>\n",
       "    <tr>\n",
       "      <td>12</td>\n",
       "      <td>Pokemon Gold/Pokemon Silver</td>\n",
       "      <td>GB</td>\n",
       "      <td>1999</td>\n",
       "      <td>Role-Playing</td>\n",
       "      <td>9.00</td>\n",
       "      <td>6.18</td>\n",
       "      <td>7.20</td>\n",
       "      <td>0.71</td>\n",
       "      <td>NaN</td>\n",
       "      <td>NaN</td>\n",
       "      <td>T</td>\n",
       "    </tr>\n",
       "    <tr>\n",
       "      <td>18</td>\n",
       "      <td>Super Mario World</td>\n",
       "      <td>SNES</td>\n",
       "      <td>1990</td>\n",
       "      <td>Platform</td>\n",
       "      <td>12.78</td>\n",
       "      <td>3.75</td>\n",
       "      <td>3.54</td>\n",
       "      <td>0.55</td>\n",
       "      <td>NaN</td>\n",
       "      <td>NaN</td>\n",
       "      <td>E</td>\n",
       "    </tr>\n",
       "    <tr>\n",
       "      <td>20</td>\n",
       "      <td>Pokemon Diamond/Pokemon Pearl</td>\n",
       "      <td>DS</td>\n",
       "      <td>2006</td>\n",
       "      <td>Role-Playing</td>\n",
       "      <td>6.38</td>\n",
       "      <td>4.46</td>\n",
       "      <td>6.04</td>\n",
       "      <td>1.36</td>\n",
       "      <td>NaN</td>\n",
       "      <td>NaN</td>\n",
       "      <td>T</td>\n",
       "    </tr>\n",
       "    <tr>\n",
       "      <td>21</td>\n",
       "      <td>Super Mario Land</td>\n",
       "      <td>GB</td>\n",
       "      <td>1989</td>\n",
       "      <td>Platform</td>\n",
       "      <td>10.83</td>\n",
       "      <td>2.71</td>\n",
       "      <td>4.18</td>\n",
       "      <td>0.42</td>\n",
       "      <td>NaN</td>\n",
       "      <td>NaN</td>\n",
       "      <td>E</td>\n",
       "    </tr>\n",
       "    <tr>\n",
       "      <td>22</td>\n",
       "      <td>Super Mario Bros. 3</td>\n",
       "      <td>NES</td>\n",
       "      <td>1988</td>\n",
       "      <td>Platform</td>\n",
       "      <td>9.54</td>\n",
       "      <td>3.44</td>\n",
       "      <td>3.84</td>\n",
       "      <td>0.46</td>\n",
       "      <td>NaN</td>\n",
       "      <td>NaN</td>\n",
       "      <td>E</td>\n",
       "    </tr>\n",
       "  </tbody>\n",
       "</table>\n",
       "</div>"
      ],
      "text/plain": [
       "                             name platform  year_of_release         genre  \\\n",
       "1               Super Mario Bros.      NES             1985      Platform   \n",
       "4        Pokemon Red/Pokemon Blue       GB             1996  Role-Playing   \n",
       "5                          Tetris       GB             1989        Puzzle   \n",
       "9                       Duck Hunt      NES             1984       Shooter   \n",
       "10                     Nintendogs       DS             2005    Simulation   \n",
       "12    Pokemon Gold/Pokemon Silver       GB             1999  Role-Playing   \n",
       "18              Super Mario World     SNES             1990      Platform   \n",
       "20  Pokemon Diamond/Pokemon Pearl       DS             2006  Role-Playing   \n",
       "21               Super Mario Land       GB             1989      Platform   \n",
       "22            Super Mario Bros. 3      NES             1988      Platform   \n",
       "\n",
       "    na_sales  eu_sales  jp_sales  other_sales  critic_score user_score rating  \n",
       "1      29.08      3.58      6.81         0.77           NaN        NaN      E  \n",
       "4      11.27      8.89     10.22         1.00           NaN        NaN      T  \n",
       "5      23.20      2.26      4.22         0.58           NaN        NaN      E  \n",
       "9      26.93      0.63      0.28         0.47           NaN        NaN      M  \n",
       "10      9.05     10.95      1.93         2.74           NaN        NaN      E  \n",
       "12      9.00      6.18      7.20         0.71           NaN        NaN      T  \n",
       "18     12.78      3.75      3.54         0.55           NaN        NaN      E  \n",
       "20      6.38      4.46      6.04         1.36           NaN        NaN      T  \n",
       "21     10.83      2.71      4.18         0.42           NaN        NaN      E  \n",
       "22      9.54      3.44      3.84         0.46           NaN        NaN      E  "
      ]
     },
     "execution_count": 18,
     "metadata": {},
     "output_type": "execute_result"
    }
   ],
   "source": [
    "df_games[df_games['critic_score'].isnull()].head(10)"
   ]
  },
  {
   "cell_type": "code",
   "execution_count": 19,
   "metadata": {},
   "outputs": [
    {
     "data": {
      "text/html": [
       "<div>\n",
       "<style scoped>\n",
       "    .dataframe tbody tr th:only-of-type {\n",
       "        vertical-align: middle;\n",
       "    }\n",
       "\n",
       "    .dataframe tbody tr th {\n",
       "        vertical-align: top;\n",
       "    }\n",
       "\n",
       "    .dataframe thead th {\n",
       "        text-align: right;\n",
       "    }\n",
       "</style>\n",
       "<table border=\"1\" class=\"dataframe\">\n",
       "  <thead>\n",
       "    <tr style=\"text-align: right;\">\n",
       "      <th></th>\n",
       "      <th>name</th>\n",
       "      <th>platform</th>\n",
       "      <th>year_of_release</th>\n",
       "      <th>genre</th>\n",
       "      <th>na_sales</th>\n",
       "      <th>eu_sales</th>\n",
       "      <th>jp_sales</th>\n",
       "      <th>other_sales</th>\n",
       "      <th>critic_score</th>\n",
       "      <th>user_score</th>\n",
       "      <th>rating</th>\n",
       "    </tr>\n",
       "  </thead>\n",
       "  <tbody>\n",
       "    <tr>\n",
       "      <td>1</td>\n",
       "      <td>Super Mario Bros.</td>\n",
       "      <td>NES</td>\n",
       "      <td>1985</td>\n",
       "      <td>Platform</td>\n",
       "      <td>29.08</td>\n",
       "      <td>3.58</td>\n",
       "      <td>6.81</td>\n",
       "      <td>0.77</td>\n",
       "      <td>NaN</td>\n",
       "      <td>NaN</td>\n",
       "      <td>E</td>\n",
       "    </tr>\n",
       "    <tr>\n",
       "      <td>4</td>\n",
       "      <td>Pokemon Red/Pokemon Blue</td>\n",
       "      <td>GB</td>\n",
       "      <td>1996</td>\n",
       "      <td>Role-Playing</td>\n",
       "      <td>11.27</td>\n",
       "      <td>8.89</td>\n",
       "      <td>10.22</td>\n",
       "      <td>1.00</td>\n",
       "      <td>NaN</td>\n",
       "      <td>NaN</td>\n",
       "      <td>T</td>\n",
       "    </tr>\n",
       "    <tr>\n",
       "      <td>5</td>\n",
       "      <td>Tetris</td>\n",
       "      <td>GB</td>\n",
       "      <td>1989</td>\n",
       "      <td>Puzzle</td>\n",
       "      <td>23.20</td>\n",
       "      <td>2.26</td>\n",
       "      <td>4.22</td>\n",
       "      <td>0.58</td>\n",
       "      <td>NaN</td>\n",
       "      <td>NaN</td>\n",
       "      <td>E</td>\n",
       "    </tr>\n",
       "    <tr>\n",
       "      <td>9</td>\n",
       "      <td>Duck Hunt</td>\n",
       "      <td>NES</td>\n",
       "      <td>1984</td>\n",
       "      <td>Shooter</td>\n",
       "      <td>26.93</td>\n",
       "      <td>0.63</td>\n",
       "      <td>0.28</td>\n",
       "      <td>0.47</td>\n",
       "      <td>NaN</td>\n",
       "      <td>NaN</td>\n",
       "      <td>M</td>\n",
       "    </tr>\n",
       "    <tr>\n",
       "      <td>10</td>\n",
       "      <td>Nintendogs</td>\n",
       "      <td>DS</td>\n",
       "      <td>2005</td>\n",
       "      <td>Simulation</td>\n",
       "      <td>9.05</td>\n",
       "      <td>10.95</td>\n",
       "      <td>1.93</td>\n",
       "      <td>2.74</td>\n",
       "      <td>NaN</td>\n",
       "      <td>NaN</td>\n",
       "      <td>E</td>\n",
       "    </tr>\n",
       "    <tr>\n",
       "      <td>12</td>\n",
       "      <td>Pokemon Gold/Pokemon Silver</td>\n",
       "      <td>GB</td>\n",
       "      <td>1999</td>\n",
       "      <td>Role-Playing</td>\n",
       "      <td>9.00</td>\n",
       "      <td>6.18</td>\n",
       "      <td>7.20</td>\n",
       "      <td>0.71</td>\n",
       "      <td>NaN</td>\n",
       "      <td>NaN</td>\n",
       "      <td>T</td>\n",
       "    </tr>\n",
       "    <tr>\n",
       "      <td>18</td>\n",
       "      <td>Super Mario World</td>\n",
       "      <td>SNES</td>\n",
       "      <td>1990</td>\n",
       "      <td>Platform</td>\n",
       "      <td>12.78</td>\n",
       "      <td>3.75</td>\n",
       "      <td>3.54</td>\n",
       "      <td>0.55</td>\n",
       "      <td>NaN</td>\n",
       "      <td>NaN</td>\n",
       "      <td>E</td>\n",
       "    </tr>\n",
       "    <tr>\n",
       "      <td>20</td>\n",
       "      <td>Pokemon Diamond/Pokemon Pearl</td>\n",
       "      <td>DS</td>\n",
       "      <td>2006</td>\n",
       "      <td>Role-Playing</td>\n",
       "      <td>6.38</td>\n",
       "      <td>4.46</td>\n",
       "      <td>6.04</td>\n",
       "      <td>1.36</td>\n",
       "      <td>NaN</td>\n",
       "      <td>NaN</td>\n",
       "      <td>T</td>\n",
       "    </tr>\n",
       "    <tr>\n",
       "      <td>21</td>\n",
       "      <td>Super Mario Land</td>\n",
       "      <td>GB</td>\n",
       "      <td>1989</td>\n",
       "      <td>Platform</td>\n",
       "      <td>10.83</td>\n",
       "      <td>2.71</td>\n",
       "      <td>4.18</td>\n",
       "      <td>0.42</td>\n",
       "      <td>NaN</td>\n",
       "      <td>NaN</td>\n",
       "      <td>E</td>\n",
       "    </tr>\n",
       "    <tr>\n",
       "      <td>22</td>\n",
       "      <td>Super Mario Bros. 3</td>\n",
       "      <td>NES</td>\n",
       "      <td>1988</td>\n",
       "      <td>Platform</td>\n",
       "      <td>9.54</td>\n",
       "      <td>3.44</td>\n",
       "      <td>3.84</td>\n",
       "      <td>0.46</td>\n",
       "      <td>NaN</td>\n",
       "      <td>NaN</td>\n",
       "      <td>E</td>\n",
       "    </tr>\n",
       "  </tbody>\n",
       "</table>\n",
       "</div>"
      ],
      "text/plain": [
       "                             name platform  year_of_release         genre  \\\n",
       "1               Super Mario Bros.      NES             1985      Platform   \n",
       "4        Pokemon Red/Pokemon Blue       GB             1996  Role-Playing   \n",
       "5                          Tetris       GB             1989        Puzzle   \n",
       "9                       Duck Hunt      NES             1984       Shooter   \n",
       "10                     Nintendogs       DS             2005    Simulation   \n",
       "12    Pokemon Gold/Pokemon Silver       GB             1999  Role-Playing   \n",
       "18              Super Mario World     SNES             1990      Platform   \n",
       "20  Pokemon Diamond/Pokemon Pearl       DS             2006  Role-Playing   \n",
       "21               Super Mario Land       GB             1989      Platform   \n",
       "22            Super Mario Bros. 3      NES             1988      Platform   \n",
       "\n",
       "    na_sales  eu_sales  jp_sales  other_sales  critic_score user_score rating  \n",
       "1      29.08      3.58      6.81         0.77           NaN        NaN      E  \n",
       "4      11.27      8.89     10.22         1.00           NaN        NaN      T  \n",
       "5      23.20      2.26      4.22         0.58           NaN        NaN      E  \n",
       "9      26.93      0.63      0.28         0.47           NaN        NaN      M  \n",
       "10      9.05     10.95      1.93         2.74           NaN        NaN      E  \n",
       "12      9.00      6.18      7.20         0.71           NaN        NaN      T  \n",
       "18     12.78      3.75      3.54         0.55           NaN        NaN      E  \n",
       "20      6.38      4.46      6.04         1.36           NaN        NaN      T  \n",
       "21     10.83      2.71      4.18         0.42           NaN        NaN      E  \n",
       "22      9.54      3.44      3.84         0.46           NaN        NaN      E  "
      ]
     },
     "execution_count": 19,
     "metadata": {},
     "output_type": "execute_result"
    }
   ],
   "source": [
    "df_games[df_games['user_score'].isnull()].head(10)"
   ]
  },
  {
   "cell_type": "markdown",
   "metadata": {},
   "source": [
    "Again, no pattern. Possible reasons for the missing scores is that the scores database is newer than the game itself and there is no info on the database for those older games. For example, we have a game from 1985, internet wasn't available to most consumers back then and was limited. We can assume that there wasn't a scores database back then. For the rest of the games, either the are too new, or a human error while inputting the data. First, let's change 'tbd' values in user_score to NaN, and then change the column type to float:"
   ]
  },
  {
   "cell_type": "code",
   "execution_count": 20,
   "metadata": {
    "scrolled": false
   },
   "outputs": [
    {
     "data": {
      "text/plain": [
       "array([8. , nan, 8.3, 8.5, 6.6, 8.4, 8.6, 7.7, 6.3, 7.4, 8.2, 9. , 7.9,\n",
       "       8.1, 8.7, 7.1, 3.4, 5.3, 4.8, 3.2, 8.9, 6.4, 7.8, 7.5, 2.6, 7.2,\n",
       "       9.2, 7. , 7.3, 4.3, 7.6, 5.7, 5. , 9.1, 6.5, 8.8, 6.9, 9.4, 6.8,\n",
       "       6.1, 6.7, 5.4, 4. , 4.9, 4.5, 9.3, 6.2, 4.2, 6. , 3.7, 4.1, 5.8,\n",
       "       5.6, 5.5, 4.4, 4.6, 5.9, 3.9, 3.1, 2.9, 5.2, 3.3, 4.7, 5.1, 3.5,\n",
       "       2.5, 1.9, 3. , 2.7, 2.2, 2. , 9.5, 2.1, 3.6, 2.8, 1.8, 3.8, 0. ,\n",
       "       1.6, 9.6, 2.4, 1.7, 1.1, 0.3, 1.5, 0.7, 1.2, 2.3, 0.5, 1.3, 0.2,\n",
       "       0.6, 1.4, 0.9, 1. , 9.7])"
      ]
     },
     "execution_count": 20,
     "metadata": {},
     "output_type": "execute_result"
    }
   ],
   "source": [
    "df_games.loc[df_games['user_score'] == 'tbd', 'user_score'] = np.nan\n",
    "df_games['user_score'] = (df_games['user_score'].astype(float))\n",
    "df_games['user_score'].unique()"
   ]
  },
  {
   "cell_type": "markdown",
   "metadata": {},
   "source": [
    "Now we can check for a correlation between both user_score and critic_score. If it's a positive correlation, we could use one to fill the other. There are games that miss both values and we'll take a look at them after."
   ]
  },
  {
   "cell_type": "code",
   "execution_count": 21,
   "metadata": {},
   "outputs": [
    {
     "data": {
      "text/plain": [
       "8576"
      ]
     },
     "execution_count": 21,
     "metadata": {},
     "output_type": "execute_result"
    }
   ],
   "source": [
    "df_games['critic_score'].isnull().sum()\n"
   ]
  },
  {
   "cell_type": "code",
   "execution_count": 22,
   "metadata": {},
   "outputs": [
    {
     "data": {
      "text/plain": [
       "0.5808778320767236"
      ]
     },
     "execution_count": 22,
     "metadata": {},
     "output_type": "execute_result"
    }
   ],
   "source": [
    "df_games['critic_score'].corr(df_games['user_score'])"
   ]
  },
  {
   "cell_type": "markdown",
   "metadata": {},
   "source": [
    "We do have quite high positive correlation between user & critic scores. Let's fill the missing scores with median, which would give us a good approximation of the score:"
   ]
  },
  {
   "cell_type": "code",
   "execution_count": 23,
   "metadata": {},
   "outputs": [
    {
     "data": {
      "text/plain": [
       "8014"
      ]
     },
     "execution_count": 23,
     "metadata": {},
     "output_type": "execute_result"
    }
   ],
   "source": [
    "df_games['critic_score'].fillna(df_games.groupby(['user_score'])['critic_score'].transform('median'),inplace=True)\n",
    "df_games['critic_score'].isnull().sum()"
   ]
  },
  {
   "cell_type": "markdown",
   "metadata": {},
   "source": [
    "Let's do the same for 'user_score':"
   ]
  },
  {
   "cell_type": "code",
   "execution_count": 24,
   "metadata": {},
   "outputs": [
    {
     "data": {
      "text/plain": [
       "9123"
      ]
     },
     "execution_count": 24,
     "metadata": {},
     "output_type": "execute_result"
    }
   ],
   "source": [
    "df_games['user_score'].isnull().sum()"
   ]
  },
  {
   "cell_type": "code",
   "execution_count": 25,
   "metadata": {},
   "outputs": [
    {
     "data": {
      "text/plain": [
       "8003"
      ]
     },
     "execution_count": 25,
     "metadata": {},
     "output_type": "execute_result"
    }
   ],
   "source": [
    "df_games['user_score'].fillna(df_games.groupby(['critic_score'])['user_score'].transform('median'),inplace=True)\n",
    "df_games['user_score'].isnull().sum()"
   ]
  },
  {
   "cell_type": "markdown",
   "metadata": {},
   "source": [
    "Let's try to fill the remaining for both using the median based on same rating and platform:"
   ]
  },
  {
   "cell_type": "code",
   "execution_count": 26,
   "metadata": {},
   "outputs": [
    {
     "data": {
      "text/plain": [
       "1130"
      ]
     },
     "execution_count": 26,
     "metadata": {},
     "output_type": "execute_result"
    }
   ],
   "source": [
    "df_games['critic_score'].fillna(df_games.groupby(['rating', 'platform'])['critic_score'].transform('median'),inplace=True)\n",
    "df_games['critic_score'].isnull().sum()"
   ]
  },
  {
   "cell_type": "code",
   "execution_count": 27,
   "metadata": {},
   "outputs": [
    {
     "data": {
      "text/plain": [
       "1130"
      ]
     },
     "execution_count": 27,
     "metadata": {},
     "output_type": "execute_result"
    }
   ],
   "source": [
    "df_games['user_score'].fillna(df_games.groupby(['rating', 'platform'])['user_score'].transform('median'),inplace=True)\n",
    "df_games['user_score'].isnull().sum()"
   ]
  },
  {
   "cell_type": "markdown",
   "metadata": {},
   "source": [
    "Let's try to fill the remaining for both using the median based on same rating:"
   ]
  },
  {
   "cell_type": "code",
   "execution_count": 28,
   "metadata": {},
   "outputs": [
    {
     "data": {
      "text/plain": [
       "0"
      ]
     },
     "execution_count": 28,
     "metadata": {},
     "output_type": "execute_result"
    }
   ],
   "source": [
    "df_games['critic_score'].fillna(df_games.groupby(['rating'])['critic_score'].transform('median'),inplace=True)\n",
    "df_games['critic_score'].isnull().sum()"
   ]
  },
  {
   "cell_type": "code",
   "execution_count": 29,
   "metadata": {},
   "outputs": [
    {
     "data": {
      "text/plain": [
       "0"
      ]
     },
     "execution_count": 29,
     "metadata": {},
     "output_type": "execute_result"
    }
   ],
   "source": [
    "df_games['user_score'].fillna(df_games.groupby(['rating'])['user_score'].transform('median'),inplace=True)\n",
    "df_games['user_score'].isnull().sum()"
   ]
  },
  {
   "cell_type": "code",
   "execution_count": 30,
   "metadata": {},
   "outputs": [
    {
     "data": {
      "text/plain": [
       "name               0\n",
       "platform           0\n",
       "year_of_release    0\n",
       "genre              0\n",
       "na_sales           0\n",
       "eu_sales           0\n",
       "jp_sales           0\n",
       "other_sales        0\n",
       "critic_score       0\n",
       "user_score         0\n",
       "rating             0\n",
       "dtype: int64"
      ]
     },
     "execution_count": 30,
     "metadata": {},
     "output_type": "execute_result"
    }
   ],
   "source": [
    "df_games.isnull().sum()"
   ]
  },
  {
   "cell_type": "markdown",
   "metadata": {},
   "source": [
    "* **Check for duplicates:**"
   ]
  },
  {
   "cell_type": "code",
   "execution_count": 31,
   "metadata": {},
   "outputs": [
    {
     "data": {
      "text/plain": [
       "0"
      ]
     },
     "execution_count": 31,
     "metadata": {},
     "output_type": "execute_result"
    }
   ],
   "source": [
    "df_games.duplicated().sum()"
   ]
  },
  {
   "cell_type": "markdown",
   "metadata": {},
   "source": [
    "* **Total sales (the sum of sales in all regions) for each game:**"
   ]
  },
  {
   "cell_type": "code",
   "execution_count": 32,
   "metadata": {},
   "outputs": [
    {
     "data": {
      "text/plain": [
       "0    82.54\n",
       "1    40.24\n",
       "2    35.52\n",
       "3    32.77\n",
       "4    31.38\n",
       "Name: total_sales, dtype: float64"
      ]
     },
     "execution_count": 32,
     "metadata": {},
     "output_type": "execute_result"
    }
   ],
   "source": [
    "df_games['total_sales'] = df_games['na_sales'] + df_games['eu_sales'] + df_games['jp_sales'] + df_games['other_sales']\n",
    "df_games['total_sales'].head()"
   ]
  },
  {
   "cell_type": "markdown",
   "metadata": {},
   "source": [
    "### Conclusion:"
   ]
  },
  {
   "cell_type": "markdown",
   "metadata": {},
   "source": [
    "We dealt with every problem we found in the previous step: missing values, data types change, changed column names to lowercase, made sure there are no duplicates and added 'total_sales' columns which we'll use later in the project."
   ]
  },
  {
   "cell_type": "markdown",
   "metadata": {},
   "source": [
    "### 3. Analyze the data:"
   ]
  },
  {
   "cell_type": "code",
   "execution_count": 33,
   "metadata": {},
   "outputs": [
    {
     "data": {
      "image/png": "[encoded data removed]",
      "text/plain": [
       "<Figure size 1152x576 with 1 Axes>"
      ]
     },
     "metadata": {
      "needs_background": "light"
     },
     "output_type": "display_data"
    }
   ],
   "source": [
    "df_games.hist('year_of_release', bins='auto', figsize=(16,8))\n",
    "plt.title('Number Of Games Released Per Year', size=24)\n",
    "plt.xlabel('Year', size=12)\n",
    "plt.ylabel('Frequency', size=12);\n"
   ]
  },
  {
   "cell_type": "markdown",
   "metadata": {},
   "source": [
    "**Most of the games released between 2002 to 2011, minimum of 800 games per year. The amount of games reduced significantly in 2012 onwards. Before 1995, the amount of games per year was negligible.**"
   ]
  },
  {
   "cell_type": "code",
   "execution_count": 34,
   "metadata": {},
   "outputs": [
    {
     "data": {
      "image/png": "[encoded data removed]",
      "text/plain": [
       "<Figure size 1152x720 with 1 Axes>"
      ]
     },
     "metadata": {
      "needs_background": "light"
     },
     "output_type": "display_data"
    }
   ],
   "source": [
    "plt.figure(figsize=(16,10))\n",
    "sales_plot = df_games.pivot_table(index = \"platform\", values = \"total_sales\", aggfunc=\"sum\").sort_values('total_sales', ascending=False) \n",
    "sns.barplot(x=sales_plot.index,y=\"total_sales\",data = sales_plot)\n",
    "plt.title('Total Sales Per Platform', size=24)\n",
    "plt.xlabel('Platform', size=12);\n",
    "plt.ylabel('Total Sales', size=12);"
   ]
  },
  {
   "cell_type": "markdown",
   "metadata": {},
   "source": [
    "**We can see that the 6 best selling platforms are: PS2, X360, PS3, Wii, DS, PS. We'll build a distribution for each of those platforms based on data for each year.**"
   ]
  },
  {
   "cell_type": "code",
   "execution_count": 35,
   "metadata": {},
   "outputs": [
    {
     "data": {
      "image/png": "[encoded data removed]",
      "text/plain": [
       "<Figure size 1152x864 with 2 Axes>"
      ]
     },
     "metadata": {
      "needs_background": "light"
     },
     "output_type": "display_data"
    }
   ],
   "source": [
    "platform_sales_year = df_games[df_games['platform'].isin(['PS2','X360','PS3','Wii','DS','PS'])].groupby([\"platform\",\"year_of_release\"]).size().unstack()\n",
    "plt.figure(figsize=(16,12))\n",
    "sns.heatmap(platform_sales_year, square=True, cbar_kws={'shrink' : 0.3}, cmap='OrRd', linewidth=2)\n",
    "plt.title('Yearly Sales Per Platform', size=24)\n",
    "plt.xlabel('Year', size=12);\n",
    "plt.ylabel('Platform', size=12);"
   ]
  },
  {
   "cell_type": "markdown",
   "metadata": {},
   "source": [
    "**Out of the 6 platforms, 3 platforms (PS3, Wii, X360) have low amount of sales, while the rest (PS2, PS, DS) didn't have a sale for at least 3 years, but used to be very popular for years. We can see that a new PS platform released in 6 years intervals, and the sales faded in around 10 years. \n",
    "To build prognosis for 2017, we'll use data from 2012 onwards. We can see that there was a significant decrease in the number of games released in that year, and since then the number of games released per year were in the same range. We can see that platform sales peak is around its 5th year in the market. 3 platforms released in 2016 - x360, Wii, and PS3, so the 5th year is 2011, but as said before the number of games released that year is almost doubled compared to 2012 onwards, so we'll take the data from 2012.**"
   ]
  },
  {
   "cell_type": "code",
   "execution_count": 36,
   "metadata": {},
   "outputs": [
    {
     "data": {
      "text/html": [
       "<div>\n",
       "<style scoped>\n",
       "    .dataframe tbody tr th:only-of-type {\n",
       "        vertical-align: middle;\n",
       "    }\n",
       "\n",
       "    .dataframe tbody tr th {\n",
       "        vertical-align: top;\n",
       "    }\n",
       "\n",
       "    .dataframe thead th {\n",
       "        text-align: right;\n",
       "    }\n",
       "</style>\n",
       "<table border=\"1\" class=\"dataframe\">\n",
       "  <thead>\n",
       "    <tr style=\"text-align: right;\">\n",
       "      <th></th>\n",
       "      <th>name</th>\n",
       "      <th>platform</th>\n",
       "      <th>year_of_release</th>\n",
       "      <th>genre</th>\n",
       "      <th>na_sales</th>\n",
       "      <th>eu_sales</th>\n",
       "      <th>jp_sales</th>\n",
       "      <th>other_sales</th>\n",
       "      <th>critic_score</th>\n",
       "      <th>user_score</th>\n",
       "      <th>rating</th>\n",
       "      <th>total_sales</th>\n",
       "    </tr>\n",
       "  </thead>\n",
       "  <tbody>\n",
       "    <tr>\n",
       "      <td>16</td>\n",
       "      <td>Grand Theft Auto V</td>\n",
       "      <td>PS3</td>\n",
       "      <td>2013</td>\n",
       "      <td>Action</td>\n",
       "      <td>7.02</td>\n",
       "      <td>9.09</td>\n",
       "      <td>0.98</td>\n",
       "      <td>3.96</td>\n",
       "      <td>97.0</td>\n",
       "      <td>8.2</td>\n",
       "      <td>M</td>\n",
       "      <td>21.05</td>\n",
       "    </tr>\n",
       "    <tr>\n",
       "      <td>23</td>\n",
       "      <td>Grand Theft Auto V</td>\n",
       "      <td>X360</td>\n",
       "      <td>2013</td>\n",
       "      <td>Action</td>\n",
       "      <td>9.66</td>\n",
       "      <td>5.14</td>\n",
       "      <td>0.06</td>\n",
       "      <td>1.41</td>\n",
       "      <td>97.0</td>\n",
       "      <td>8.1</td>\n",
       "      <td>M</td>\n",
       "      <td>16.27</td>\n",
       "    </tr>\n",
       "    <tr>\n",
       "      <td>31</td>\n",
       "      <td>Call of Duty: Black Ops 3</td>\n",
       "      <td>PS4</td>\n",
       "      <td>2015</td>\n",
       "      <td>Shooter</td>\n",
       "      <td>6.03</td>\n",
       "      <td>5.86</td>\n",
       "      <td>0.36</td>\n",
       "      <td>2.38</td>\n",
       "      <td>76.0</td>\n",
       "      <td>7.2</td>\n",
       "      <td>M</td>\n",
       "      <td>14.63</td>\n",
       "    </tr>\n",
       "    <tr>\n",
       "      <td>33</td>\n",
       "      <td>Pokemon X/Pokemon Y</td>\n",
       "      <td>3DS</td>\n",
       "      <td>2013</td>\n",
       "      <td>Role-Playing</td>\n",
       "      <td>5.28</td>\n",
       "      <td>4.19</td>\n",
       "      <td>4.35</td>\n",
       "      <td>0.78</td>\n",
       "      <td>69.0</td>\n",
       "      <td>7.5</td>\n",
       "      <td>T</td>\n",
       "      <td>14.60</td>\n",
       "    </tr>\n",
       "    <tr>\n",
       "      <td>34</td>\n",
       "      <td>Call of Duty: Black Ops II</td>\n",
       "      <td>PS3</td>\n",
       "      <td>2012</td>\n",
       "      <td>Shooter</td>\n",
       "      <td>4.99</td>\n",
       "      <td>5.73</td>\n",
       "      <td>0.65</td>\n",
       "      <td>2.42</td>\n",
       "      <td>83.0</td>\n",
       "      <td>5.3</td>\n",
       "      <td>M</td>\n",
       "      <td>13.79</td>\n",
       "    </tr>\n",
       "  </tbody>\n",
       "</table>\n",
       "</div>"
      ],
      "text/plain": [
       "                          name platform  year_of_release         genre  \\\n",
       "16          Grand Theft Auto V      PS3             2013        Action   \n",
       "23          Grand Theft Auto V     X360             2013        Action   \n",
       "31   Call of Duty: Black Ops 3      PS4             2015       Shooter   \n",
       "33         Pokemon X/Pokemon Y      3DS             2013  Role-Playing   \n",
       "34  Call of Duty: Black Ops II      PS3             2012       Shooter   \n",
       "\n",
       "    na_sales  eu_sales  jp_sales  other_sales  critic_score  user_score  \\\n",
       "16      7.02      9.09      0.98         3.96          97.0         8.2   \n",
       "23      9.66      5.14      0.06         1.41          97.0         8.1   \n",
       "31      6.03      5.86      0.36         2.38          76.0         7.2   \n",
       "33      5.28      4.19      4.35         0.78          69.0         7.5   \n",
       "34      4.99      5.73      0.65         2.42          83.0         5.3   \n",
       "\n",
       "   rating  total_sales  \n",
       "16      M        21.05  \n",
       "23      M        16.27  \n",
       "31      M        14.63  \n",
       "33      T        14.60  \n",
       "34      M        13.79  "
      ]
     },
     "execution_count": 36,
     "metadata": {},
     "output_type": "execute_result"
    }
   ],
   "source": [
    "df_relevant = df_games.query('year_of_release > 2011')\n",
    "df_relevant.head()"
   ]
  },
  {
   "cell_type": "code",
   "execution_count": 37,
   "metadata": {},
   "outputs": [
    {
     "name": "stdout",
     "output_type": "stream",
     "text": [
      "<class 'pandas.core.frame.DataFrame'>\n",
      "Int64Index: 2893 entries, 16 to 16712\n",
      "Data columns (total 12 columns):\n",
      "name               2893 non-null object\n",
      "platform           2893 non-null object\n",
      "year_of_release    2893 non-null int64\n",
      "genre              2893 non-null object\n",
      "na_sales           2893 non-null float64\n",
      "eu_sales           2893 non-null float64\n",
      "jp_sales           2893 non-null float64\n",
      "other_sales        2893 non-null float64\n",
      "critic_score       2893 non-null float64\n",
      "user_score         2893 non-null float64\n",
      "rating             2893 non-null object\n",
      "total_sales        2893 non-null float64\n",
      "dtypes: float64(7), int64(1), object(4)\n",
      "memory usage: 293.8+ KB\n"
     ]
    }
   ],
   "source": [
    "df_relevant.info()"
   ]
  },
  {
   "cell_type": "code",
   "execution_count": 38,
   "metadata": {},
   "outputs": [
    {
     "data": {
      "text/html": [
       "<div>\n",
       "<style scoped>\n",
       "    .dataframe tbody tr th:only-of-type {\n",
       "        vertical-align: middle;\n",
       "    }\n",
       "\n",
       "    .dataframe tbody tr th {\n",
       "        vertical-align: top;\n",
       "    }\n",
       "\n",
       "    .dataframe thead th {\n",
       "        text-align: right;\n",
       "    }\n",
       "</style>\n",
       "<table border=\"1\" class=\"dataframe\">\n",
       "  <thead>\n",
       "    <tr style=\"text-align: right;\">\n",
       "      <th></th>\n",
       "      <th>year_of_release</th>\n",
       "      <th>na_sales</th>\n",
       "      <th>eu_sales</th>\n",
       "      <th>jp_sales</th>\n",
       "      <th>other_sales</th>\n",
       "      <th>critic_score</th>\n",
       "      <th>user_score</th>\n",
       "      <th>total_sales</th>\n",
       "    </tr>\n",
       "  </thead>\n",
       "  <tbody>\n",
       "    <tr>\n",
       "      <td>count</td>\n",
       "      <td>2893.000000</td>\n",
       "      <td>2893.000000</td>\n",
       "      <td>2893.000000</td>\n",
       "      <td>2893.000000</td>\n",
       "      <td>2893.000000</td>\n",
       "      <td>2893.000000</td>\n",
       "      <td>2893.000000</td>\n",
       "      <td>2893.000000</td>\n",
       "    </tr>\n",
       "    <tr>\n",
       "      <td>mean</td>\n",
       "      <td>2013.913930</td>\n",
       "      <td>0.204563</td>\n",
       "      <td>0.175271</td>\n",
       "      <td>0.066609</td>\n",
       "      <td>0.054013</td>\n",
       "      <td>71.009074</td>\n",
       "      <td>6.902325</td>\n",
       "      <td>0.500456</td>\n",
       "    </tr>\n",
       "    <tr>\n",
       "      <td>std</td>\n",
       "      <td>1.411714</td>\n",
       "      <td>0.566045</td>\n",
       "      <td>0.504792</td>\n",
       "      <td>0.241298</td>\n",
       "      <td>0.164452</td>\n",
       "      <td>9.511487</td>\n",
       "      <td>1.210242</td>\n",
       "      <td>1.247759</td>\n",
       "    </tr>\n",
       "    <tr>\n",
       "      <td>min</td>\n",
       "      <td>2012.000000</td>\n",
       "      <td>0.000000</td>\n",
       "      <td>0.000000</td>\n",
       "      <td>0.000000</td>\n",
       "      <td>0.000000</td>\n",
       "      <td>13.000000</td>\n",
       "      <td>0.200000</td>\n",
       "      <td>0.010000</td>\n",
       "    </tr>\n",
       "    <tr>\n",
       "      <td>25%</td>\n",
       "      <td>2013.000000</td>\n",
       "      <td>0.000000</td>\n",
       "      <td>0.000000</td>\n",
       "      <td>0.000000</td>\n",
       "      <td>0.000000</td>\n",
       "      <td>68.000000</td>\n",
       "      <td>6.600000</td>\n",
       "      <td>0.040000</td>\n",
       "    </tr>\n",
       "    <tr>\n",
       "      <td>50%</td>\n",
       "      <td>2014.000000</td>\n",
       "      <td>0.030000</td>\n",
       "      <td>0.030000</td>\n",
       "      <td>0.010000</td>\n",
       "      <td>0.010000</td>\n",
       "      <td>71.000000</td>\n",
       "      <td>7.200000</td>\n",
       "      <td>0.120000</td>\n",
       "    </tr>\n",
       "    <tr>\n",
       "      <td>75%</td>\n",
       "      <td>2015.000000</td>\n",
       "      <td>0.170000</td>\n",
       "      <td>0.140000</td>\n",
       "      <td>0.050000</td>\n",
       "      <td>0.040000</td>\n",
       "      <td>76.000000</td>\n",
       "      <td>7.500000</td>\n",
       "      <td>0.430000</td>\n",
       "    </tr>\n",
       "    <tr>\n",
       "      <td>max</td>\n",
       "      <td>2016.000000</td>\n",
       "      <td>9.660000</td>\n",
       "      <td>9.090000</td>\n",
       "      <td>4.390000</td>\n",
       "      <td>3.960000</td>\n",
       "      <td>97.000000</td>\n",
       "      <td>9.300000</td>\n",
       "      <td>21.050000</td>\n",
       "    </tr>\n",
       "  </tbody>\n",
       "</table>\n",
       "</div>"
      ],
      "text/plain": [
       "       year_of_release     na_sales     eu_sales     jp_sales  other_sales  \\\n",
       "count      2893.000000  2893.000000  2893.000000  2893.000000  2893.000000   \n",
       "mean       2013.913930     0.204563     0.175271     0.066609     0.054013   \n",
       "std           1.411714     0.566045     0.504792     0.241298     0.164452   \n",
       "min        2012.000000     0.000000     0.000000     0.000000     0.000000   \n",
       "25%        2013.000000     0.000000     0.000000     0.000000     0.000000   \n",
       "50%        2014.000000     0.030000     0.030000     0.010000     0.010000   \n",
       "75%        2015.000000     0.170000     0.140000     0.050000     0.040000   \n",
       "max        2016.000000     9.660000     9.090000     4.390000     3.960000   \n",
       "\n",
       "       critic_score   user_score  total_sales  \n",
       "count   2893.000000  2893.000000  2893.000000  \n",
       "mean      71.009074     6.902325     0.500456  \n",
       "std        9.511487     1.210242     1.247759  \n",
       "min       13.000000     0.200000     0.010000  \n",
       "25%       68.000000     6.600000     0.040000  \n",
       "50%       71.000000     7.200000     0.120000  \n",
       "75%       76.000000     7.500000     0.430000  \n",
       "max       97.000000     9.300000    21.050000  "
      ]
     },
     "execution_count": 38,
     "metadata": {},
     "output_type": "execute_result"
    }
   ],
   "source": [
    "df_relevant.describe()"
   ]
  },
  {
   "cell_type": "code",
   "execution_count": 39,
   "metadata": {},
   "outputs": [
    {
     "data": {
      "image/png": "[encoded data removed]",
      "text/plain": [
       "<Figure size 1152x720 with 1 Axes>"
      ]
     },
     "metadata": {
      "needs_background": "light"
     },
     "output_type": "display_data"
    }
   ],
   "source": [
    "plt.figure(figsize=(16,10))\n",
    "sales_plot = df_relevant.pivot_table(index = \"platform\", values = \"total_sales\", aggfunc=\"sum\").sort_values('total_sales', ascending=False) \n",
    "sns.barplot(x=sales_plot.index,y=\"total_sales\",data = sales_plot)\n",
    "plt.title('Total Sales Per Platform', size=24)\n",
    "plt.xlabel('Platform', size=12);\n",
    "plt.ylabel('Total Sales', size=12);"
   ]
  },
  {
   "cell_type": "markdown",
   "metadata": {},
   "source": [
    "**5 platforms sales are significantly larger than the rest - PS4, PS3, X360, 3DS, XOne. We'll use them for our further analysis.**"
   ]
  },
  {
   "cell_type": "code",
   "execution_count": 40,
   "metadata": {},
   "outputs": [
    {
     "data": {
      "image/png": "[encoded data removed]",
      "text/plain": [
       "<Figure size 1152x864 with 1 Axes>"
      ]
     },
     "metadata": {
      "needs_background": "light"
     },
     "output_type": "display_data"
    }
   ],
   "source": [
    "df_relevant_platforms = df_relevant[df_relevant['platform'].isin(['PS4', 'PS3', 'X360', '3DS', 'XOne'])]\n",
    "plt.figure(figsize=(16,12))\n",
    "sns.boxplot(x=\"platform\",y=\"total_sales\", data = df_relevant_platforms)\n",
    "plt.title('Game Sales By Platform', size=24)\n",
    "plt.xlabel('Platform', size=12);\n",
    "plt.ylabel('Game Sales', size=12);"
   ]
  },
  {
   "cell_type": "markdown",
   "metadata": {},
   "source": [
    "**The boxplots look similar. Sales doesn't differ much. We can see that there are outliers for each platforms, the distribution is positively skewed.**"
   ]
  },
  {
   "cell_type": "code",
   "execution_count": 41,
   "metadata": {},
   "outputs": [
    {
     "data": {
      "text/html": [
       "<div>\n",
       "<style scoped>\n",
       "    .dataframe tbody tr th:only-of-type {\n",
       "        vertical-align: middle;\n",
       "    }\n",
       "\n",
       "    .dataframe tbody tr th {\n",
       "        vertical-align: top;\n",
       "    }\n",
       "\n",
       "    .dataframe thead th {\n",
       "        text-align: right;\n",
       "    }\n",
       "</style>\n",
       "<table border=\"1\" class=\"dataframe\">\n",
       "  <thead>\n",
       "    <tr style=\"text-align: right;\">\n",
       "      <th></th>\n",
       "      <th>Median</th>\n",
       "      <th>Mean</th>\n",
       "    </tr>\n",
       "    <tr>\n",
       "      <th>platform</th>\n",
       "      <th></th>\n",
       "      <th></th>\n",
       "    </tr>\n",
       "  </thead>\n",
       "  <tbody>\n",
       "    <tr>\n",
       "      <td>3DS</td>\n",
       "      <td>0.11</td>\n",
       "      <td>0.486667</td>\n",
       "    </tr>\n",
       "    <tr>\n",
       "      <td>PS3</td>\n",
       "      <td>0.20</td>\n",
       "      <td>0.585781</td>\n",
       "    </tr>\n",
       "    <tr>\n",
       "      <td>PS4</td>\n",
       "      <td>0.20</td>\n",
       "      <td>0.801378</td>\n",
       "    </tr>\n",
       "    <tr>\n",
       "      <td>X360</td>\n",
       "      <td>0.31</td>\n",
       "      <td>0.810068</td>\n",
       "    </tr>\n",
       "    <tr>\n",
       "      <td>XOne</td>\n",
       "      <td>0.22</td>\n",
       "      <td>0.645020</td>\n",
       "    </tr>\n",
       "  </tbody>\n",
       "</table>\n",
       "</div>"
      ],
      "text/plain": [
       "          Median      Mean\n",
       "platform                  \n",
       "3DS         0.11  0.486667\n",
       "PS3         0.20  0.585781\n",
       "PS4         0.20  0.801378\n",
       "X360        0.31  0.810068\n",
       "XOne        0.22  0.645020"
      ]
     },
     "execution_count": 41,
     "metadata": {},
     "output_type": "execute_result"
    }
   ],
   "source": [
    "df_relevant_platforms.groupby('platform').agg(Median=('total_sales', 'median'), Mean=('total_sales', 'mean'))"
   ]
  },
  {
   "cell_type": "markdown",
   "metadata": {},
   "source": [
    "**We can see that the distribution is positively skewed because the mean is significantly higher than the median.**"
   ]
  },
  {
   "cell_type": "code",
   "execution_count": 42,
   "metadata": {},
   "outputs": [
    {
     "data": {
      "image/png": "[encoded data removed]",
      "text/plain": [
       "<Figure size 432x288 with 1 Axes>"
      ]
     },
     "metadata": {
      "needs_background": "light"
     },
     "output_type": "display_data"
    }
   ],
   "source": [
    "xone = df_relevant[df_relevant['platform']=='XOne']\n",
    "xone.plot.scatter(y='total_sales', x='user_score', alpha=.15)\n",
    "plt.title('User Reviews Affect On XOne Sales', size=18);\n",
    "plt.xlabel('User Score', size=12);\n",
    "plt.ylabel('Total Sales', size=12);"
   ]
  },
  {
   "cell_type": "code",
   "execution_count": 43,
   "metadata": {},
   "outputs": [
    {
     "name": "stdout",
     "output_type": "stream",
     "text": [
      "XOne Correlation coefficient between sales and user score: -0.05\n"
     ]
    }
   ],
   "source": [
    "print('XOne Correlation coefficient between sales and user score: {:.0}'.format(xone['total_sales'].corr(xone['user_score'])))"
   ]
  },
  {
   "cell_type": "code",
   "execution_count": 44,
   "metadata": {},
   "outputs": [
    {
     "data": {
      "image/png": "[encoded data removed]",
      "text/plain": [
       "<Figure size 432x288 with 1 Axes>"
      ]
     },
     "metadata": {
      "needs_background": "light"
     },
     "output_type": "display_data"
    }
   ],
   "source": [
    "xone = df_relevant[df_relevant['platform']=='XOne']\n",
    "xone.plot.scatter(y='total_sales', x='critic_score', alpha=.15)\n",
    "plt.title('Critic Reviews Affect On XOne Sales', size=18);\n",
    "plt.xlabel('Critic Score', size=12);\n",
    "plt.ylabel('Total Sales', size=12);"
   ]
  },
  {
   "cell_type": "code",
   "execution_count": 45,
   "metadata": {},
   "outputs": [
    {
     "name": "stdout",
     "output_type": "stream",
     "text": [
      "XOne Correlation coefficient between sales and critic score: 0.4\n"
     ]
    }
   ],
   "source": [
    "print('XOne Correlation coefficient between sales and critic score: {:.0}'.format(xone['total_sales'].corr(xone['critic_score'])))"
   ]
  },
  {
   "cell_type": "markdown",
   "metadata": {},
   "source": [
    "**Regarding XOne, there is a positive linear connection between game sales and critic reviews, but not for user reviews.**"
   ]
  },
  {
   "cell_type": "code",
   "execution_count": 46,
   "metadata": {},
   "outputs": [
    {
     "name": "stdout",
     "output_type": "stream",
     "text": [
      "PS4 Correlation coefficient between sales and user score: -0.05\n",
      "X360 Correlation coefficient between sales and user score: -0.02\n",
      "PS4 Correlation coefficient between sales and critic score: 0.3\n",
      "X360 Correlation coefficient between sales and critic score: 0.3\n"
     ]
    }
   ],
   "source": [
    "ps4 = df_relevant[df_relevant['platform']=='PS4']\n",
    "x360 = df_relevant[df_relevant['platform']=='X360']\n",
    "\n",
    "print('PS4 Correlation coefficient between sales and user score: {:.0}'.format(ps4['total_sales'].corr(ps4['user_score'])))\n",
    "print('X360 Correlation coefficient between sales and user score: {:.0}'.format(x360['total_sales'].corr(x360['user_score'])))\n",
    "print('PS4 Correlation coefficient between sales and critic score: {:.0}'.format(ps4['total_sales'].corr(ps4['critic_score'])))\n",
    "print('X360 Correlation coefficient between sales and critic score: {:.0}'.format(x360['total_sales'].corr(x360['critic_score'])))"
   ]
  },
  {
   "cell_type": "markdown",
   "metadata": {},
   "source": [
    "The results of XOne are very much similar for PS4 and X360. There is a positive linear connection between game sales and critic reviews, but not for user reviews."
   ]
  },
  {
   "cell_type": "code",
   "execution_count": 47,
   "metadata": {},
   "outputs": [
    {
     "data": {
      "text/html": [
       "<div>\n",
       "<style scoped>\n",
       "    .dataframe tbody tr th:only-of-type {\n",
       "        vertical-align: middle;\n",
       "    }\n",
       "\n",
       "    .dataframe tbody tr th {\n",
       "        vertical-align: top;\n",
       "    }\n",
       "\n",
       "    .dataframe thead th {\n",
       "        text-align: right;\n",
       "    }\n",
       "</style>\n",
       "<table border=\"1\" class=\"dataframe\">\n",
       "  <thead>\n",
       "    <tr style=\"text-align: right;\">\n",
       "      <th>platform</th>\n",
       "      <th>3DS</th>\n",
       "      <th>PS3</th>\n",
       "      <th>PS4</th>\n",
       "      <th>X360</th>\n",
       "      <th>XOne</th>\n",
       "    </tr>\n",
       "    <tr>\n",
       "      <th>name</th>\n",
       "      <th></th>\n",
       "      <th></th>\n",
       "      <th></th>\n",
       "      <th></th>\n",
       "      <th></th>\n",
       "    </tr>\n",
       "  </thead>\n",
       "  <tbody>\n",
       "    <tr>\n",
       "      <td>Adventure Time: Finn &amp; Jake Investigations</td>\n",
       "      <td>0.09</td>\n",
       "      <td>0.08</td>\n",
       "      <td>0.10</td>\n",
       "      <td>0.09</td>\n",
       "      <td>0.05</td>\n",
       "    </tr>\n",
       "    <tr>\n",
       "      <td>Angry Birds Star Wars</td>\n",
       "      <td>0.33</td>\n",
       "      <td>0.29</td>\n",
       "      <td>0.22</td>\n",
       "      <td>0.28</td>\n",
       "      <td>0.17</td>\n",
       "    </tr>\n",
       "    <tr>\n",
       "      <td>FIFA 14</td>\n",
       "      <td>0.23</td>\n",
       "      <td>6.46</td>\n",
       "      <td>3.01</td>\n",
       "      <td>4.22</td>\n",
       "      <td>1.16</td>\n",
       "    </tr>\n",
       "    <tr>\n",
       "      <td>FIFA 15</td>\n",
       "      <td>0.46</td>\n",
       "      <td>4.28</td>\n",
       "      <td>6.08</td>\n",
       "      <td>2.92</td>\n",
       "      <td>2.18</td>\n",
       "    </tr>\n",
       "    <tr>\n",
       "      <td>LEGO Jurassic World</td>\n",
       "      <td>0.62</td>\n",
       "      <td>0.85</td>\n",
       "      <td>0.90</td>\n",
       "      <td>0.87</td>\n",
       "      <td>0.66</td>\n",
       "    </tr>\n",
       "    <tr>\n",
       "      <td>LEGO Marvel Super Heroes</td>\n",
       "      <td>0.89</td>\n",
       "      <td>1.83</td>\n",
       "      <td>1.62</td>\n",
       "      <td>2.22</td>\n",
       "      <td>1.05</td>\n",
       "    </tr>\n",
       "    <tr>\n",
       "      <td>LEGO Marvel's Avengers</td>\n",
       "      <td>0.18</td>\n",
       "      <td>0.26</td>\n",
       "      <td>0.73</td>\n",
       "      <td>0.32</td>\n",
       "      <td>0.34</td>\n",
       "    </tr>\n",
       "    <tr>\n",
       "      <td>LEGO The Hobbit</td>\n",
       "      <td>0.24</td>\n",
       "      <td>0.46</td>\n",
       "      <td>0.60</td>\n",
       "      <td>0.45</td>\n",
       "      <td>0.27</td>\n",
       "    </tr>\n",
       "    <tr>\n",
       "      <td>Lego Batman 3: Beyond Gotham</td>\n",
       "      <td>0.45</td>\n",
       "      <td>0.73</td>\n",
       "      <td>0.92</td>\n",
       "      <td>0.89</td>\n",
       "      <td>0.44</td>\n",
       "    </tr>\n",
       "    <tr>\n",
       "      <td>Lego Star Wars: The Force Awakens</td>\n",
       "      <td>0.13</td>\n",
       "      <td>0.17</td>\n",
       "      <td>0.71</td>\n",
       "      <td>0.12</td>\n",
       "      <td>0.29</td>\n",
       "    </tr>\n",
       "    <tr>\n",
       "      <td>Skylanders SWAP Force</td>\n",
       "      <td>0.24</td>\n",
       "      <td>1.02</td>\n",
       "      <td>0.38</td>\n",
       "      <td>1.32</td>\n",
       "      <td>0.31</td>\n",
       "    </tr>\n",
       "    <tr>\n",
       "      <td>Skylanders: SuperChargers</td>\n",
       "      <td>0.12</td>\n",
       "      <td>0.37</td>\n",
       "      <td>0.30</td>\n",
       "      <td>0.42</td>\n",
       "      <td>0.24</td>\n",
       "    </tr>\n",
       "    <tr>\n",
       "      <td>Skylanders: Trap Team</td>\n",
       "      <td>0.28</td>\n",
       "      <td>0.67</td>\n",
       "      <td>0.44</td>\n",
       "      <td>0.89</td>\n",
       "      <td>0.37</td>\n",
       "    </tr>\n",
       "    <tr>\n",
       "      <td>Terraria</td>\n",
       "      <td>0.09</td>\n",
       "      <td>0.41</td>\n",
       "      <td>0.07</td>\n",
       "      <td>0.68</td>\n",
       "      <td>0.04</td>\n",
       "    </tr>\n",
       "    <tr>\n",
       "      <td>The Amazing Spider-Man 2 (2014)</td>\n",
       "      <td>0.07</td>\n",
       "      <td>0.26</td>\n",
       "      <td>0.56</td>\n",
       "      <td>0.23</td>\n",
       "      <td>0.22</td>\n",
       "    </tr>\n",
       "    <tr>\n",
       "      <td>The LEGO Movie Videogame</td>\n",
       "      <td>0.69</td>\n",
       "      <td>0.93</td>\n",
       "      <td>0.67</td>\n",
       "      <td>1.27</td>\n",
       "      <td>0.53</td>\n",
       "    </tr>\n",
       "  </tbody>\n",
       "</table>\n",
       "</div>"
      ],
      "text/plain": [
       "platform                                     3DS   PS3   PS4  X360  XOne\n",
       "name                                                                    \n",
       "Adventure Time: Finn & Jake Investigations  0.09  0.08  0.10  0.09  0.05\n",
       "Angry Birds Star Wars                       0.33  0.29  0.22  0.28  0.17\n",
       "FIFA 14                                     0.23  6.46  3.01  4.22  1.16\n",
       "FIFA 15                                     0.46  4.28  6.08  2.92  2.18\n",
       "LEGO Jurassic World                         0.62  0.85  0.90  0.87  0.66\n",
       "LEGO Marvel Super Heroes                    0.89  1.83  1.62  2.22  1.05\n",
       "LEGO Marvel's Avengers                      0.18  0.26  0.73  0.32  0.34\n",
       "LEGO The Hobbit                             0.24  0.46  0.60  0.45  0.27\n",
       "Lego Batman 3: Beyond Gotham                0.45  0.73  0.92  0.89  0.44\n",
       "Lego Star Wars: The Force Awakens           0.13  0.17  0.71  0.12  0.29\n",
       "Skylanders SWAP Force                       0.24  1.02  0.38  1.32  0.31\n",
       "Skylanders: SuperChargers                   0.12  0.37  0.30  0.42  0.24\n",
       "Skylanders: Trap Team                       0.28  0.67  0.44  0.89  0.37\n",
       "Terraria                                    0.09  0.41  0.07  0.68  0.04\n",
       "The Amazing Spider-Man 2 (2014)             0.07  0.26  0.56  0.23  0.22\n",
       "The LEGO Movie Videogame                    0.69  0.93  0.67  1.27  0.53"
      ]
     },
     "execution_count": 47,
     "metadata": {},
     "output_type": "execute_result"
    }
   ],
   "source": [
    "df_relevant_platforms.groupby(['name', 'platform'])['total_sales'].sum().sort_values(ascending=False).unstack(1).dropna()"
   ]
  },
  {
   "cell_type": "markdown",
   "metadata": {},
   "source": [
    "**We have total of 16 games that released for all platforms. We'll take the top 10 and look at their sales numbers across platforms:**"
   ]
  },
  {
   "cell_type": "code",
   "execution_count": 48,
   "metadata": {},
   "outputs": [
    {
     "data": {
      "image/png": "[encoded data removed]",
      "text/plain": [
       "<Figure size 1152x576 with 1 Axes>"
      ]
     },
     "metadata": {
      "needs_background": "light"
     },
     "output_type": "display_data"
    }
   ],
   "source": [
    "(df_relevant_platforms.groupby(['name', 'platform'])['total_sales']\n",
    " .sum().sort_values(ascending=False).unstack(1).dropna()[0:10].plot(kind='bar', figsize=(16,8)))\n",
    "plt.title('Game Sales On Different Platforms', size=18);\n",
    "plt.xticks(rotation=75)\n",
    "plt.xlabel('Game', size=12);\n",
    "plt.ylabel('Total Sales', size=12);\n",
    "plt.show()"
   ]
  },
  {
   "cell_type": "markdown",
   "metadata": {},
   "source": [
    "**We can see that out of the top 10, 2 games had a specific platform with large amount of sales compared to the rest (FIFA 14 and FIFA 15), but other than that, the sales are very much similar, there is no trend for a specific platform with larger sales compared to the rest on those multi platform games.**"
   ]
  },
  {
   "cell_type": "code",
   "execution_count": 49,
   "metadata": {},
   "outputs": [
    {
     "data": {
      "image/png": "[encoded data removed]",
      "text/plain": [
       "<Figure size 1152x720 with 1 Axes>"
      ]
     },
     "metadata": {
      "needs_background": "light"
     },
     "output_type": "display_data"
    }
   ],
   "source": [
    "plt.figure(figsize=(16,10))\n",
    "genre_plot = df_relevant.pivot_table(index = \"genre\", values = \"total_sales\", aggfunc=\"count\").sort_values('total_sales', ascending=False) \n",
    "sns.barplot(x=genre_plot.index,y=\"total_sales\",data = genre_plot)\n",
    "plt.title('Games Released By Genre', size=24)\n",
    "plt.xlabel('Genre', size=12);\n",
    "plt.ylabel('Total Games', size=12);\n"
   ]
  },
  {
   "cell_type": "markdown",
   "metadata": {},
   "source": [
    "**Action genre is by far the most game released genre, let's see if it's the most profitable as well:**"
   ]
  },
  {
   "cell_type": "code",
   "execution_count": 50,
   "metadata": {},
   "outputs": [
    {
     "data": {
      "image/png": "[encoded data removed]",
      "text/plain": [
       "<Figure size 1152x720 with 1 Axes>"
      ]
     },
     "metadata": {
      "needs_background": "light"
     },
     "output_type": "display_data"
    }
   ],
   "source": [
    "plt.figure(figsize=(16,10))\n",
    "genre_plot = df_relevant.pivot_table(index = \"genre\", values = \"total_sales\", aggfunc=\"sum\").sort_values('total_sales', ascending=False) \n",
    "sns.barplot(x=genre_plot.index,y=\"total_sales\",data = genre_plot)\n",
    "plt.title('Games Sales By Genre', size=24)\n",
    "plt.xlabel('Genre', size=12);\n",
    "plt.ylabel('Total Sales', size=12);"
   ]
  },
  {
   "cell_type": "markdown",
   "metadata": {},
   "source": [
    "**We can see that the total sales revenue of Action games is indeed the largest, and there is a trend that follows the total sales by the amount of games released for specific genre, but there is an exception - Shooter genre games, which seems to be the most popular genre. The total amount of Shooter games is 1/5 of the Action games, but the total sales is around 3/4 of the Action games. The most popular genres are the ones that had the most games released - Action, Shooter, Role-Playing and Sports. Adventure has exceptionally bad sales compared to the amount of games released for that genre. Puzzle, Strategy and Simulation sales are low but so is the amount of games released for those genres.**"
   ]
  },
  {
   "cell_type": "markdown",
   "metadata": {},
   "source": [
    "### 4.  Create a user profile for each region:"
   ]
  },
  {
   "cell_type": "markdown",
   "metadata": {},
   "source": [
    "We'll plot pie charts for the top five platforms of each region:"
   ]
  },
  {
   "cell_type": "code",
   "execution_count": 51,
   "metadata": {},
   "outputs": [],
   "source": [
    "top_platforms_na = df_relevant.groupby(['platform'])['na_sales'].sum().sort_values(ascending = False).reset_index()\n",
    "top_platforms_na.columns = ['platform','total_na_sales']\n",
    "others_sales = top_platforms_na.loc[5:,'total_na_sales'].sum()\n",
    "top_platforms_na = top_platforms_na[0:5].append({'platform':'others', 'total_na_sales':others_sales}, ignore_index=True)\n",
    "top_platforms_na = top_platforms_na.sort_values(by='total_na_sales', ascending = False).reset_index(drop=True)\n",
    "\n",
    "top_platforms_eu = df_relevant.groupby(['platform'])['eu_sales'].sum().sort_values(ascending = False).reset_index()\n",
    "top_platforms_eu.columns = ['platform','total_eu_sales']\n",
    "others_sales = top_platforms_eu.loc[5:,'total_eu_sales'].sum()\n",
    "top_platforms_eu = top_platforms_eu[0:5].append({'platform':'others', 'total_eu_sales':others_sales}, ignore_index=True)\n",
    "top_platforms_eu = top_platforms_eu.sort_values(by='total_eu_sales', ascending = False).reset_index(drop=True)\n",
    "\n",
    "top_platforms_jp = df_relevant.groupby(['platform'])['jp_sales'].sum().sort_values(ascending = False).reset_index()\n",
    "top_platforms_jp.columns = ['platform','total_jp_sales']\n",
    "others_sales = top_platforms_jp.loc[5:,'total_jp_sales'].sum()\n",
    "top_platforms_jp = top_platforms_jp[0:5].append({'platform':'others', 'total_jp_sales':others_sales}, ignore_index=True)\n",
    "top_platforms_jp = top_platforms_jp.sort_values(by='total_jp_sales', ascending = False).reset_index(drop=True)"
   ]
  },
  {
   "cell_type": "code",
   "execution_count": 52,
   "metadata": {},
   "outputs": [
    {
     "data": {
      "image/png": "[encoded data removed]",
      "text/plain": [
       "<Figure size 432x432 with 1 Axes>"
      ]
     },
     "metadata": {},
     "output_type": "display_data"
    },
    {
     "data": {
      "image/png": "[encoded data removed]",
      "text/plain": [
       "<Figure size 432x432 with 1 Axes>"
      ]
     },
     "metadata": {},
     "output_type": "display_data"
    },
    {
     "data": {
      "image/png": "[encoded data removed]",
      "text/plain": [
       "<Figure size 432x432 with 1 Axes>"
      ]
     },
     "metadata": {},
     "output_type": "display_data"
    }
   ],
   "source": [
    "(top_platforms_na.set_index('platform')\n",
    "                .plot(y='total_na_sales', kind='pie', \n",
    "                      title = 'NA Top Platforms, Sales', \n",
    "                      figsize=(6, 6), autopct='%1.1f%%', shadow=True)\n",
    ");\n",
    "(top_platforms_eu.set_index('platform')\n",
    "                .plot(y='total_eu_sales', kind='pie', \n",
    "                      title = 'EU Top Platforms, Sales', \n",
    "                      figsize=(6, 6), autopct='%1.1f%%', shadow=True)\n",
    ");\n",
    "(top_platforms_jp.set_index('platform')\n",
    "                .plot(y='total_jp_sales', kind='pie', \n",
    "                      title = 'JP Top Platforms, Sales', \n",
    "                      figsize=(6, 6), autopct='%1.1f%%', shadow=True)\n",
    ");\n"
   ]
  },
  {
   "cell_type": "markdown",
   "metadata": {},
   "source": [
    "**Each region platform sales differ. The leading platform for and sales shares between platforms for each region is different. NA top platform is X360, with PS4, PS3 and XOne not far behind. EU has both PS platfroms leading, with PS4 at the top, and the x platforms fall behind. JP is much different compared to NA and EU with 3DS leading the sales with almost 50% of total sales. PS platforms behind, while X platforms sales are very low. The 3DS platform sales in both the NA & EU are very limited, less than 10% of total sales.**"
   ]
  },
  {
   "cell_type": "markdown",
   "metadata": {},
   "source": [
    "We'll plot pie charts for the top five genres of each region:"
   ]
  },
  {
   "cell_type": "code",
   "execution_count": 53,
   "metadata": {},
   "outputs": [],
   "source": [
    "top_genres_na = df_relevant.groupby(['genre'])['na_sales'].sum().sort_values(ascending = False).reset_index()\n",
    "top_genres_na.columns = ['genre','total_na_sales']\n",
    "others_sales = top_genres_na.loc[5:,'total_na_sales'].sum()\n",
    "top_genres_na = top_genres_na[0:5].append({'genre':'others', 'total_na_sales':others_sales}, ignore_index=True)\n",
    "top_genres_na = top_genres_na.sort_values(by='total_na_sales', ascending = False).reset_index(drop=True)\n",
    "\n",
    "top_genres_eu = df_relevant.groupby(['genre'])['eu_sales'].sum().sort_values(ascending = False).reset_index()\n",
    "top_genres_eu.columns = ['genre','total_eu_sales']\n",
    "others_sales = top_genres_eu.loc[5:,'total_eu_sales'].sum()\n",
    "top_genres_eu = top_genres_eu[0:5].append({'genre':'others', 'total_eu_sales':others_sales}, ignore_index=True)\n",
    "top_genres_eu = top_genres_eu.sort_values(by='total_eu_sales', ascending = False).reset_index(drop=True)\n",
    "\n",
    "top_genres_jp = df_relevant.groupby(['genre'])['jp_sales'].sum().sort_values(ascending = False).reset_index()\n",
    "top_genres_jp.columns = ['genre','total_jp_sales']\n",
    "others_sales = top_genres_jp.loc[5:,'total_jp_sales'].sum()\n",
    "top_genres_jp = top_genres_jp[0:5].append({'genre':'others', 'total_jp_sales':others_sales}, ignore_index=True)\n",
    "top_genres_jp = top_genres_jp.sort_values(by='total_jp_sales', ascending = False).reset_index(drop=True)"
   ]
  },
  {
   "cell_type": "code",
   "execution_count": 54,
   "metadata": {},
   "outputs": [
    {
     "data": {
      "image/png": "[encoded data removed]",
      "text/plain": [
       "<Figure size 432x432 with 1 Axes>"
      ]
     },
     "metadata": {},
     "output_type": "display_data"
    },
    {
     "data": {
      "image/png": "[encoded data removed]",
      "text/plain": [
       "<Figure size 432x432 with 1 Axes>"
      ]
     },
     "metadata": {},
     "output_type": "display_data"
    },
    {
     "data": {
      "image/png": "[encoded data removed]",
      "text/plain": [
       "<Figure size 432x432 with 1 Axes>"
      ]
     },
     "metadata": {},
     "output_type": "display_data"
    }
   ],
   "source": [
    "(top_genres_na.set_index('genre')\n",
    "                .plot(y='total_na_sales', kind='pie', \n",
    "                      title = 'NA Top Genres, Sales', \n",
    "                      figsize=(6, 6), autopct='%1.1f%%', shadow=True)\n",
    ");\n",
    "(top_genres_eu.set_index('genre')\n",
    "                .plot(y='total_eu_sales', kind='pie', \n",
    "                      title = 'EU Top Genres, Sales', \n",
    "                      figsize=(6, 6), autopct='%1.1f%%', shadow=True)\n",
    ");\n",
    "(top_genres_jp.set_index('genre')\n",
    "                .plot(y='total_jp_sales', kind='pie', \n",
    "                      title = 'JP Top Genres, Sales', \n",
    "                      figsize=(6, 6), autopct='%1.1f%%', shadow=True)\n",
    ");"
   ]
  },
  {
   "cell_type": "markdown",
   "metadata": {},
   "source": [
    "**Both NA and EU have a very much similar sales shares between genres. Both Action and Shooter are leading in both, with more than 50% of total sales. Sports and Role Playing each has around 10% share for both NA and EU.\n",
    "JP is, once again, different. Role Playing sales are a third of the total sales. Action is very popular there too with almost a third of the total sales, while the rest genres sales are negligible. It seems like gamers from different regions have different genre preference for their games.**"
   ]
  },
  {
   "cell_type": "markdown",
   "metadata": {},
   "source": [
    "We'll plot pie charts for the ESRB Ratings sales of each region:"
   ]
  },
  {
   "cell_type": "code",
   "execution_count": 55,
   "metadata": {},
   "outputs": [],
   "source": [
    "esrb_na = df_relevant.groupby(['rating'])['na_sales'].sum().sort_values(ascending = False).reset_index()\n",
    "esrb_eu = df_relevant.groupby(['rating'])['eu_sales'].sum().sort_values(ascending = False).reset_index()\n",
    "esrb_jp = df_relevant.groupby(['rating'])['jp_sales'].sum().sort_values(ascending = False).reset_index()"
   ]
  },
  {
   "cell_type": "code",
   "execution_count": 56,
   "metadata": {},
   "outputs": [
    {
     "data": {
      "image/png": "[encoded data removed]",
      "text/plain": [
       "<Figure size 432x432 with 1 Axes>"
      ]
     },
     "metadata": {},
     "output_type": "display_data"
    },
    {
     "data": {
      "image/png": "[encoded data removed]",
      "text/plain": [
       "<Figure size 432x432 with 1 Axes>"
      ]
     },
     "metadata": {},
     "output_type": "display_data"
    },
    {
     "data": {
      "image/png": "[encoded data removed]",
      "text/plain": [
       "<Figure size 432x432 with 1 Axes>"
      ]
     },
     "metadata": {},
     "output_type": "display_data"
    }
   ],
   "source": [
    "(esrb_na.set_index('rating')\n",
    "                .plot(y='na_sales', kind='pie', \n",
    "                      title = 'NA Top Ratings, Sales', \n",
    "                      figsize=(6, 6), autopct='%1.1f%%', shadow=True)\n",
    ");\n",
    "(esrb_eu.set_index('rating')\n",
    "                .plot(y='eu_sales', kind='pie', \n",
    "                      title = 'EU Top Ratings, Sales', \n",
    "                      figsize=(6, 6), autopct='%1.1f%%', shadow=True)\n",
    ");\n",
    "(esrb_jp.set_index('rating')\n",
    "                .plot(y='jp_sales', kind='pie', \n",
    "                      title = 'JP Top Ratings, Sales', \n",
    "                      figsize=(6, 6), autopct='%1.1f%%', shadow=True)\n",
    ");"
   ]
  },
  {
   "cell_type": "markdown",
   "metadata": {},
   "source": [
    "**Like the genre before, we have a very similar trend for sales in NA and EU regarding the game rating, while JP region is very much different. Mature shares are close to 50% of total sales for both NA and EU, with Everyone games close to a third of the total sales. Teen and E10+ sales are around 10% each. On the other hand, Teen games sale shares are more than 50% in JP, with Everyone games close to a third of the total sales. Mature sales are around 10%, compared to almost half in NA and EU. We can conclude that in JP, there are much more young gamers and the Role Playing games which is very popular in JP being played by all kind of gamers, while in NA and EU gamers, most gamers are matures and like to play Shooter and Action games.**"
   ]
  },
  {
   "cell_type": "markdown",
   "metadata": {},
   "source": [
    "### 5.  Test the hypotheses:"
   ]
  },
  {
   "cell_type": "markdown",
   "metadata": {},
   "source": [
    "**Average user ratings of the Xbox One and PC platforms are the same:**"
   ]
  },
  {
   "cell_type": "markdown",
   "metadata": {},
   "source": [
    "**H0**: Average user ratings of the Xbox One and PC platforms are the same (The means of two statistical populations are equal).\n",
    "\n",
    "**H1**: Average user ratings of the Xbox One and PC platforms are different (The means of two statistical populations are not equal).\n",
    "\n",
    "\n",
    "We'll use the typical significance level (or alpha) of 0.05, which means that only in 5% of the case will we reject the null hypothesis when it is true.\n",
    "We'll test if the populations have equal variances:"
   ]
  },
  {
   "cell_type": "code",
   "execution_count": 57,
   "metadata": {},
   "outputs": [
    {
     "name": "stdout",
     "output_type": "stream",
     "text": [
      "XOne Variance =  1.0\n",
      "PC Variance = 2.0\n",
      "\n",
      "p-value (levene test): 0.0025\n",
      "We reject the null hypothesis\n"
     ]
    }
   ],
   "source": [
    "xone = df_relevant.query('platform==\"XOne\"')\n",
    "pc = df_relevant.query('platform==\"PC\"')\n",
    "\n",
    "print(\"XOne Variance = \",round(np.var(xone[\"user_score\"]),0))\n",
    "print(\"PC Variance =\",round(np.var(pc[\"user_score\"]),0))\n",
    "print()\n",
    "\n",
    "alpha = .05 \n",
    "result = st.levene(xone[\"user_score\"].dropna(), pc[\"user_score\"].dropna())\n",
    "print('p-value (levene test): {:.4f}'.format(result.pvalue))\n",
    "\n",
    "if (result.pvalue < alpha):\n",
    "        print(\"We reject the null hypothesis\")\n",
    "else:\n",
    "        print(\"We retain the null hypothesis\")"
   ]
  },
  {
   "cell_type": "markdown",
   "metadata": {},
   "source": [
    "The populations don't have equal variances. Hence we will set the equal_var parameter to False."
   ]
  },
  {
   "cell_type": "code",
   "execution_count": 58,
   "metadata": {},
   "outputs": [
    {
     "name": "stdout",
     "output_type": "stream",
     "text": [
      "p-value: 0.6176\n",
      "We retain the null hypothesis\n"
     ]
    }
   ],
   "source": [
    "alpha = .05 \n",
    "results = st.ttest_ind(xone[\"user_score\"].dropna(), pc[\"user_score\"].dropna(), equal_var=False)\n",
    "\n",
    "print('p-value: {:.4f}'.format(results.pvalue))\n",
    "\n",
    "\n",
    "if (results.pvalue < alpha):\n",
    "        print(\"We reject the null hypothesis\")\n",
    "else:\n",
    "        print(\"We retain the null hypothesis\")"
   ]
  },
  {
   "cell_type": "markdown",
   "metadata": {},
   "source": [
    "We have evidence to support the claim that the average user ratings of the Xbox One and PC platforms are indeed the same."
   ]
  },
  {
   "cell_type": "markdown",
   "metadata": {},
   "source": [
    "**Average user ratings for the Action and Sports genres are different:**"
   ]
  },
  {
   "cell_type": "markdown",
   "metadata": {},
   "source": [
    "**H0**: Average user ratings for the Action and Sports genres are the same (The means of two statistical populations are equal).\n",
    "\n",
    "**H1**: Average user ratings for the Action and Sports genres are different (The means of two statistical populations are not equal).\n",
    "\n",
    "\n",
    "We'll use the typical significance level (or alpha) of 0.05, which means that only in 5% of the case will we reject the null hypothesis when it is true.\n",
    "We'll test if the populations have equal variances:"
   ]
  },
  {
   "cell_type": "code",
   "execution_count": 59,
   "metadata": {},
   "outputs": [
    {
     "name": "stdout",
     "output_type": "stream",
     "text": [
      "Action Variance =  1.0\n",
      "Sport Variance = 3.0\n",
      "\n",
      "p-value (levene test): 0.0000\n",
      "We reject the null hypothesis\n"
     ]
    }
   ],
   "source": [
    "action = df_relevant.query('genre==\"Action\"')\n",
    "sports = df_relevant.query('genre==\"Sports\"')\n",
    "\n",
    "print(\"Action Variance = \",round(np.var(action[\"user_score\"]),0))\n",
    "print(\"Sport Variance =\",round(np.var(sports[\"user_score\"]),0))\n",
    "print()\n",
    "\n",
    "alpha = .05 \n",
    "result = st.levene(action[\"user_score\"].dropna(), sports[\"user_score\"].dropna())\n",
    "print('p-value (levene test): {:.4f}'.format(result.pvalue))\n",
    "\n",
    "if (result.pvalue < alpha):\n",
    "        print(\"We reject the null hypothesis\")\n",
    "else:\n",
    "        print(\"We retain the null hypothesis\")"
   ]
  },
  {
   "cell_type": "markdown",
   "metadata": {},
   "source": [
    "The populations don't have equal variances. Hence we will set the equal_var parameter to False."
   ]
  },
  {
   "cell_type": "code",
   "execution_count": 60,
   "metadata": {},
   "outputs": [
    {
     "name": "stdout",
     "output_type": "stream",
     "text": [
      "p-value: 0.0000\n",
      "We reject the null hypothesis\n"
     ]
    }
   ],
   "source": [
    "alpha = .05 \n",
    "results = st.ttest_ind(action[\"user_score\"].dropna(), sports[\"user_score\"].dropna(), equal_var=False)\n",
    "\n",
    "print('p-value: {:.4f}'.format(results.pvalue))\n",
    "\n",
    "\n",
    "if (results.pvalue < alpha):\n",
    "        print(\"We reject the null hypothesis\")\n",
    "else:\n",
    "        print(\"We retain the null hypothesis\")"
   ]
  },
  {
   "cell_type": "markdown",
   "metadata": {},
   "source": [
    "We have evidence to support the claim that the average user ratings for the Action and Sports genres differ."
   ]
  },
  {
   "cell_type": "markdown",
   "metadata": {},
   "source": [
    "### 6. Overall conclusion"
   ]
  },
  {
   "cell_type": "markdown",
   "metadata": {},
   "source": [
    "**The main goal was to identify patterns that determine whether a game succeeds or not. This will allow me to spot potential big winners and plan advertising campaigns.**\n",
    "First of all, I opened the files and studied the general information. \n",
    "Next step was to **prepare the data and make necessary calculations** so I could analyze it:\n",
    "\n",
    "* Changed column names to lower case.\n",
    "* Changed data types of 2 columns.\n",
    "* Filled missing values in 6 columns.\n",
    "* Made sure there are no duplicates.\n",
    "* Added 'total_sales' columns.\n",
    "\n",
    "Then I carried out **Exploratory Data Analysis**:\n",
    "* Most of the games released between 2002 to 2011, minimum of 800 games per year. The amount of games reduced significantly in 2012 onwards. Before 1995, the amount of games per year was negligible.\n",
    "* The 6 best selling platforms all time are: PS2, X360, PS3, Wii, DS, PS.\n",
    "* It takes around 10 years on average for new platforms to appear and for the old ones to fade away. We decided to take data for the past 5 years to build a prognosis for 2017 as we found it would be the most relevant to our situation in 2017.\n",
    "* The 5 most selling platforms in that time frame are: PS4, PS3, X360, 3DS, XOne. We filtered the data for those platforms as they are the most relevant for our 2017 prognosis.\n",
    "* Sales doesn't differ much between the different platforms. The distribution of each is positively skewed.\n",
    "* There is almost no linear connection between sales and user reviews and a weak linear connection between game sales and professional reviews for the XOne platform.\n",
    "* The sales across platforms are very much similar, there is no trend for a specific platform with larger sales compared to the rest on those multi platform games.\n",
    "* Action games are the most released and sold. Shooter games sells the larger amount per game. In general, mind sport games (Puzzle, Strategy) sells significantly less than more active games like Action, Shooter and Sports.\n",
    "\n",
    "Then I **created a user profile for each region**:\n",
    "\n",
    "**We found that NA and EU behavior overall is very close, while JP is very different**.\n",
    "* First of all, we found that each region top selling platform is different - NA top platform is X360, with PS4, PS3 and XOne not far behind. EU has both PS platfroms leading, with PS4 at the top, and the x platforms fall behind. JP is much different compared to NA and EU with 3DS leading the sales with almost 50% of total sales. PS platforms behind, while X platforms sales are very low. The 3DS platform sales in both the NA & EU are very limited, less than 10% of total sales.\n",
    "* Both NA and EU have a very much similar sales shares between genres. Both Action and Shooter are leading in both, with more than 50% of total sales. Sports and Role Playing each has around 10% share for both NA and EU.\n",
    "JP is, once again, different. Role Playing sales are a third of the total sales. Action is very popular there too with almost a third of the total sales, while the rest genres sales are negligible. It seems like gamers from different regions have different genre preference for their games.\n",
    "* Like the genre before, we have a very similar trend for sales in NA and EU regarding the game rating, while JP region is very much different. Mature shares are close to 50% of total sales for both NA and EU, with Everyone games close to a third of the total sales. Teen and E10+ sales are around 10% each. On the other hand, Teen games sale shares are more than 50% in JP, with Everyone games close to a third of the total sales. Mature sales are around 10%, compared to almost half in NA and EU. We can conclude that in JP, there are much more young gamers and the Role Playing games which is very popular in JP being played by all kind of gamers, while in NA and EU gamers, most gamers are matures and like to play Shooter and Action games.\n",
    "\n",
    "I **tested the hypotheses** and found:\n",
    "* The average user ratings of the Xbox One and PC platforms are the same.\n",
    "* The average user ratings for the Action and Sports genres differs.\n",
    "\n",
    "\n"
   ]
  },
  {
   "cell_type": "markdown",
   "metadata": {},
   "source": [
    "Recommendations for the client: \n",
    "\n",
    "To finish our conclusions part, here are my recommendations for the client:\n",
    "* Treat NA and EU the same advertising wise. Those regions are very much similar, while JP is different from both.\n",
    "* Action games are very popular over the 3 regions. It would be wise to advertise Action games in all regions.\n",
    "* Shooter games are very popular in the NA & EU, so it would be wise to advertise Shooter games there.\n",
    "* Role-Playing games are very popular in JP region. It would be wise to advertise Role-Playing there.\n",
    "* Mature rated games are very popular in the NA & EU, so it would be wise to plan advertising campaigns in the related places like internet banner ads in main sites, ads in the newspapers and magazines, mature TV channels, for example sports TV channels, etc.\n",
    "* Teen rated games are very popular in JP region, so it would be wise to plan advertising campaigns in the related places, like kids TV channels, kids papers, etc."
   ]
  },
  {
   "cell_type": "code",
   "execution_count": null,
   "metadata": {},
   "outputs": [],
   "source": []
  }
 ],
 "metadata": {
  "ExecuteTimeLog": [
   {
    "duration": 1757,
    "start_time": "2021-07-08T22:54:01.364Z"
   },
   {
    "duration": 26,
    "start_time": "2021-07-08T22:54:03.123Z"
   },
   {
    "duration": 33,
    "start_time": "2021-07-08T22:54:03.152Z"
   },
   {
    "duration": 44,
    "start_time": "2021-07-08T22:54:03.188Z"
   },
   {
    "duration": 76,
    "start_time": "2021-07-08T22:54:03.235Z"
   },
   {
    "duration": 6,
    "start_time": "2021-07-08T22:54:03.314Z"
   },
   {
    "duration": 30,
    "start_time": "2021-07-08T22:54:03.323Z"
   },
   {
    "duration": 31,
    "start_time": "2021-07-08T22:54:03.357Z"
   },
   {
    "duration": 22,
    "start_time": "2021-07-08T22:54:03.391Z"
   },
   {
    "duration": 34,
    "start_time": "2021-07-08T22:54:03.416Z"
   },
   {
    "duration": 42,
    "start_time": "2021-07-08T22:54:03.452Z"
   },
   {
    "duration": 15,
    "start_time": "2021-07-08T22:54:03.496Z"
   },
   {
    "duration": 6,
    "start_time": "2021-07-08T22:54:03.514Z"
   },
   {
    "duration": 16,
    "start_time": "2021-07-08T22:54:03.523Z"
   },
   {
    "duration": 58,
    "start_time": "2021-07-08T22:54:03.541Z"
   },
   {
    "duration": 27095,
    "start_time": "2021-07-08T22:54:03.601Z"
   },
   {
    "duration": 36,
    "start_time": "2021-07-08T22:54:30.698Z"
   },
   {
    "duration": 50,
    "start_time": "2021-07-08T22:54:30.736Z"
   },
   {
    "duration": 25,
    "start_time": "2021-07-08T22:54:30.788Z"
   },
   {
    "duration": 241,
    "start_time": "2021-07-08T22:54:30.816Z"
   },
   {
    "duration": 6,
    "start_time": "2021-07-08T22:54:31.059Z"
   },
   {
    "duration": 23,
    "start_time": "2021-07-08T22:54:31.068Z"
   },
   {
    "duration": 14,
    "start_time": "2021-07-08T22:54:31.098Z"
   },
   {
    "duration": 10,
    "start_time": "2021-07-08T22:54:31.116Z"
   },
   {
    "duration": 18,
    "start_time": "2021-07-08T22:54:31.128Z"
   },
   {
    "duration": 44,
    "start_time": "2021-07-08T22:54:31.148Z"
   },
   {
    "duration": 14,
    "start_time": "2021-07-08T22:54:31.194Z"
   },
   {
    "duration": 12,
    "start_time": "2021-07-08T22:54:31.210Z"
   },
   {
    "duration": 14,
    "start_time": "2021-07-08T22:54:31.225Z"
   },
   {
    "duration": 53,
    "start_time": "2021-07-08T22:54:31.241Z"
   },
   {
    "duration": 26,
    "start_time": "2021-07-08T22:54:31.297Z"
   },
   {
    "duration": 10,
    "start_time": "2021-07-08T22:54:31.325Z"
   },
   {
    "duration": 461,
    "start_time": "2021-07-08T22:54:31.337Z"
   },
   {
    "duration": 31091,
    "start_time": "2021-07-08T22:54:00.710Z"
   },
   {
    "duration": 31089,
    "start_time": "2021-07-08T22:54:00.713Z"
   },
   {
    "duration": 31084,
    "start_time": "2021-07-08T22:54:00.720Z"
   },
   {
    "duration": 31082,
    "start_time": "2021-07-08T22:54:00.723Z"
   },
   {
    "duration": 31078,
    "start_time": "2021-07-08T22:54:00.728Z"
   },
   {
    "duration": 31077,
    "start_time": "2021-07-08T22:54:00.731Z"
   },
   {
    "duration": 31074,
    "start_time": "2021-07-08T22:54:00.735Z"
   },
   {
    "duration": 31073,
    "start_time": "2021-07-08T22:54:00.738Z"
   },
   {
    "duration": 31071,
    "start_time": "2021-07-08T22:54:00.741Z"
   },
   {
    "duration": 31069,
    "start_time": "2021-07-08T22:54:00.744Z"
   },
   {
    "duration": 31067,
    "start_time": "2021-07-08T22:54:00.748Z"
   },
   {
    "duration": 31064,
    "start_time": "2021-07-08T22:54:00.752Z"
   },
   {
    "duration": 31059,
    "start_time": "2021-07-08T22:54:00.758Z"
   },
   {
    "duration": 31058,
    "start_time": "2021-07-08T22:54:00.761Z"
   },
   {
    "duration": 31055,
    "start_time": "2021-07-08T22:54:00.765Z"
   },
   {
    "duration": 31053,
    "start_time": "2021-07-08T22:54:00.769Z"
   },
   {
    "duration": 31050,
    "start_time": "2021-07-08T22:54:00.773Z"
   },
   {
    "duration": 31037,
    "start_time": "2021-07-08T22:54:00.787Z"
   },
   {
    "duration": 31035,
    "start_time": "2021-07-08T22:54:00.791Z"
   },
   {
    "duration": 31033,
    "start_time": "2021-07-08T22:54:00.794Z"
   },
   {
    "duration": 31029,
    "start_time": "2021-07-08T22:54:00.799Z"
   },
   {
    "duration": 31028,
    "start_time": "2021-07-08T22:54:00.802Z"
   },
   {
    "duration": 31027,
    "start_time": "2021-07-08T22:54:00.805Z"
   },
   {
    "duration": 31025,
    "start_time": "2021-07-08T22:54:00.808Z"
   },
   {
    "duration": 31022,
    "start_time": "2021-07-08T22:54:00.813Z"
   },
   {
    "duration": 31020,
    "start_time": "2021-07-08T22:54:00.816Z"
   },
   {
    "duration": 1012,
    "start_time": "2021-07-08T23:00:08.289Z"
   },
   {
    "duration": 806,
    "start_time": "2021-07-08T23:00:11.921Z"
   },
   {
    "duration": 26,
    "start_time": "2021-07-08T23:00:15.922Z"
   },
   {
    "duration": 11,
    "start_time": "2021-07-08T23:00:17.897Z"
   },
   {
    "duration": 48,
    "start_time": "2021-07-08T23:00:18.705Z"
   },
   {
    "duration": 601,
    "start_time": "2021-07-08T23:00:19.377Z"
   },
   {
    "duration": 651,
    "start_time": "2021-07-08T23:00:23.154Z"
   },
   {
    "duration": 22,
    "start_time": "2021-07-08T23:00:28.330Z"
   },
   {
    "duration": 449,
    "start_time": "2021-07-08T23:00:30.921Z"
   },
   {
    "duration": 6,
    "start_time": "2021-07-08T23:00:32.099Z"
   },
   {
    "duration": 477,
    "start_time": "2021-07-08T23:00:32.858Z"
   },
   {
    "duration": 6,
    "start_time": "2021-07-08T23:00:40.818Z"
   },
   {
    "duration": 27,
    "start_time": "2021-07-08T23:00:41.858Z"
   },
   {
    "duration": 729,
    "start_time": "2021-07-08T23:00:56.002Z"
   },
   {
    "duration": 633,
    "start_time": "2021-07-08T23:00:59.651Z"
   },
   {
    "duration": 625,
    "start_time": "2021-07-08T23:01:02.747Z"
   },
   {
    "duration": 127,
    "start_time": "2021-07-08T23:01:07.875Z"
   },
   {
    "duration": 843,
    "start_time": "2021-07-08T23:01:09.699Z"
   },
   {
    "duration": 36,
    "start_time": "2021-07-08T23:01:21.956Z"
   },
   {
    "duration": 877,
    "start_time": "2021-07-08T23:01:24.299Z"
   },
   {
    "duration": 19,
    "start_time": "2021-07-08T23:01:31.395Z"
   },
   {
    "duration": 688,
    "start_time": "2021-07-08T23:01:31.988Z"
   },
   {
    "duration": 20,
    "start_time": "2021-07-08T23:01:36.060Z"
   },
   {
    "duration": 9,
    "start_time": "2021-07-08T23:01:41.188Z"
   },
   {
    "duration": 21,
    "start_time": "2021-07-08T23:01:55.206Z"
   },
   {
    "duration": 9,
    "start_time": "2021-07-08T23:02:08.269Z"
   },
   {
    "duration": 1829,
    "start_time": "2021-07-09T12:37:38.872Z"
   },
   {
    "duration": 37,
    "start_time": "2021-07-09T12:37:40.704Z"
   },
   {
    "duration": 29,
    "start_time": "2021-07-09T12:37:40.744Z"
   },
   {
    "duration": 44,
    "start_time": "2021-07-09T12:37:40.777Z"
   },
   {
    "duration": 81,
    "start_time": "2021-07-09T12:37:40.823Z"
   },
   {
    "duration": 6,
    "start_time": "2021-07-09T12:37:40.906Z"
   },
   {
    "duration": 19,
    "start_time": "2021-07-09T12:37:40.914Z"
   },
   {
    "duration": 51,
    "start_time": "2021-07-09T12:37:40.937Z"
   },
   {
    "duration": 24,
    "start_time": "2021-07-09T12:37:40.991Z"
   },
   {
    "duration": 20,
    "start_time": "2021-07-09T12:37:41.017Z"
   },
   {
    "duration": 36,
    "start_time": "2021-07-09T12:37:41.040Z"
   },
   {
    "duration": 17,
    "start_time": "2021-07-09T12:37:41.078Z"
   },
   {
    "duration": 6,
    "start_time": "2021-07-09T12:37:41.098Z"
   },
   {
    "duration": 10,
    "start_time": "2021-07-09T12:37:41.106Z"
   },
   {
    "duration": 64,
    "start_time": "2021-07-09T12:37:41.119Z"
   },
   {
    "duration": 22634,
    "start_time": "2021-07-09T12:37:41.185Z"
   },
   {
    "duration": 51,
    "start_time": "2021-07-09T12:38:03.821Z"
   },
   {
    "duration": 22,
    "start_time": "2021-07-09T12:38:03.874Z"
   },
   {
    "duration": 22,
    "start_time": "2021-07-09T12:38:03.898Z"
   },
   {
    "duration": 248,
    "start_time": "2021-07-09T12:38:03.922Z"
   },
   {
    "duration": 5,
    "start_time": "2021-07-09T12:38:04.173Z"
   },
   {
    "duration": 15,
    "start_time": "2021-07-09T12:38:04.180Z"
   },
   {
    "duration": 16,
    "start_time": "2021-07-09T12:38:04.201Z"
   },
   {
    "duration": 9,
    "start_time": "2021-07-09T12:38:04.220Z"
   },
   {
    "duration": 40,
    "start_time": "2021-07-09T12:38:04.232Z"
   },
   {
    "duration": 19,
    "start_time": "2021-07-09T12:38:04.274Z"
   },
   {
    "duration": 13,
    "start_time": "2021-07-09T12:38:04.295Z"
   },
   {
    "duration": 11,
    "start_time": "2021-07-09T12:38:04.311Z"
   },
   {
    "duration": 47,
    "start_time": "2021-07-09T12:38:04.324Z"
   },
   {
    "duration": 10,
    "start_time": "2021-07-09T12:38:04.373Z"
   },
   {
    "duration": 27,
    "start_time": "2021-07-09T12:38:04.386Z"
   },
   {
    "duration": 9,
    "start_time": "2021-07-09T12:38:04.415Z"
   },
   {
    "duration": 827,
    "start_time": "2021-07-09T12:38:04.427Z"
   },
   {
    "duration": 902,
    "start_time": "2021-07-09T12:38:05.257Z"
   },
   {
    "duration": 882,
    "start_time": "2021-07-09T12:38:06.166Z"
   },
   {
    "duration": 31,
    "start_time": "2021-07-09T12:38:07.052Z"
   },
   {
    "duration": 12,
    "start_time": "2021-07-09T12:38:07.086Z"
   },
   {
    "duration": 82,
    "start_time": "2021-07-09T12:38:07.101Z"
   },
   {
    "duration": 635,
    "start_time": "2021-07-09T12:38:07.185Z"
   },
   {
    "duration": 677,
    "start_time": "2021-07-09T12:38:07.822Z"
   },
   {
    "duration": 23,
    "start_time": "2021-07-09T12:38:08.502Z"
   },
   {
    "duration": 508,
    "start_time": "2021-07-09T12:38:08.527Z"
   },
   {
    "duration": 7,
    "start_time": "2021-07-09T12:38:09.037Z"
   },
   {
    "duration": 475,
    "start_time": "2021-07-09T12:38:09.046Z"
   },
   {
    "duration": 6,
    "start_time": "2021-07-09T12:38:09.523Z"
   },
   {
    "duration": 36,
    "start_time": "2021-07-09T12:38:09.531Z"
   },
   {
    "duration": 28,
    "start_time": "2021-07-09T12:38:09.569Z"
   },
   {
    "duration": 780,
    "start_time": "2021-07-09T12:38:09.599Z"
   },
   {
    "duration": 729,
    "start_time": "2021-07-09T12:38:10.381Z"
   },
   {
    "duration": 655,
    "start_time": "2021-07-09T12:38:11.112Z"
   },
   {
    "duration": 37,
    "start_time": "2021-07-09T12:38:11.769Z"
   },
   {
    "duration": 883,
    "start_time": "2021-07-09T12:38:11.808Z"
   },
   {
    "duration": 37,
    "start_time": "2021-07-09T12:38:12.694Z"
   },
   {
    "duration": 901,
    "start_time": "2021-07-09T12:38:12.733Z"
   },
   {
    "duration": 34,
    "start_time": "2021-07-09T12:38:13.636Z"
   },
   {
    "duration": 683,
    "start_time": "2021-07-09T12:38:13.672Z"
   },
   {
    "duration": 23,
    "start_time": "2021-07-09T12:38:14.358Z"
   },
   {
    "duration": 12,
    "start_time": "2021-07-09T12:38:14.384Z"
   },
   {
    "duration": 20,
    "start_time": "2021-07-09T12:38:14.399Z"
   },
   {
    "duration": 10,
    "start_time": "2021-07-09T12:38:14.422Z"
   }
  ],
  "kernelspec": {
   "display_name": "Python 3",
   "language": "python",
   "name": "python3"
  },
  "language_info": {
   "codemirror_mode": {
    "name": "ipython",
    "version": 3
   },
   "file_extension": ".py",
   "mimetype": "text/x-python",
   "name": "python",
   "nbconvert_exporter": "python",
   "pygments_lexer": "ipython3",
   "version": "3.8.8"
  },
  "toc": {
   "base_numbering": 1,
   "nav_menu": {},
   "number_sections": true,
   "sideBar": true,
   "skip_h1_title": true,
   "title_cell": "Table of Contents",
   "title_sidebar": "Contents",
   "toc_cell": false,
   "toc_position": {},
   "toc_section_display": true,
   "toc_window_display": false
  }
 },
 "nbformat": 4,
 "nbformat_minor": 2
}
